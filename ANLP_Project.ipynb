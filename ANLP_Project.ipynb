{
  "cells": [
    {
      "cell_type": "markdown",
      "metadata": {
        "id": "view-in-github",
        "colab_type": "text"
      },
      "source": [
        "<a href=\"https://colab.research.google.com/github/A7mad-Salem/ANLP-Project./blob/main/ANLP_Project.ipynb\" target=\"_parent\"><img src=\"https://colab.research.google.com/assets/colab-badge.svg\" alt=\"Open In Colab\"/></a>"
      ]
    },
    {
      "cell_type": "code",
      "execution_count": null,
      "metadata": {
        "colab": {
          "base_uri": "https://localhost:8080/"
        },
        "collapsed": true,
        "id": "38QJLu_8EyaZ",
        "outputId": "c816691e-9dad-404e-869f-3ef4ed251470"
      },
      "outputs": [
        {
          "name": "stdout",
          "output_type": "stream",
          "text": [
            "Collecting numpy\n",
            "  Downloading numpy-2.2.6-cp311-cp311-manylinux_2_17_x86_64.manylinux2014_x86_64.whl.metadata (62 kB)\n",
            "\u001b[?25l     \u001b[90m━━━━━━━━━━━━━━━━━━━━━━━━━━━━━━━━━━━━━━━━\u001b[0m \u001b[32m0.0/62.0 kB\u001b[0m \u001b[31m?\u001b[0m eta \u001b[36m-:--:--\u001b[0m\r\u001b[2K     \u001b[90m━━━━━━━━━━━━━━━━━━━━━━━━━━━━━━━━━━━━━━━━\u001b[0m \u001b[32m62.0/62.0 kB\u001b[0m \u001b[31m5.4 MB/s\u001b[0m eta \u001b[36m0:00:00\u001b[0m\n",
            "\u001b[?25hDownloading numpy-2.2.6-cp311-cp311-manylinux_2_17_x86_64.manylinux2014_x86_64.whl (16.8 MB)\n",
            "\u001b[2K   \u001b[90m━━━━━━━━━━━━━━━━━━━━━━━━━━━━━━━━━━━━━━━━\u001b[0m \u001b[32m16.8/16.8 MB\u001b[0m \u001b[31m111.7 MB/s\u001b[0m eta \u001b[36m0:00:00\u001b[0m\n",
            "\u001b[?25hInstalling collected packages: numpy\n",
            "  Attempting uninstall: numpy\n",
            "    Found existing installation: numpy 2.0.2\n",
            "    Uninstalling numpy-2.0.2:\n",
            "      Successfully uninstalled numpy-2.0.2\n",
            "\u001b[31mERROR: pip's dependency resolver does not currently take into account all the packages that are installed. This behaviour is the source of the following dependency conflicts.\n",
            "numba 0.60.0 requires numpy<2.1,>=1.22, but you have numpy 2.2.6 which is incompatible.\n",
            "tensorflow 2.18.0 requires numpy<2.1.0,>=1.26.0, but you have numpy 2.2.6 which is incompatible.\u001b[0m\u001b[31m\n",
            "\u001b[0mSuccessfully installed numpy-2.2.6\n"
          ]
        }
      ],
      "source": [
        "!pip install numpy --upgrade --force-reinstall\n"
      ]
    },
    {
      "cell_type": "code",
      "execution_count": null,
      "metadata": {
        "id": "ufDSuc815Qxr"
      },
      "outputs": [],
      "source": [
        "import re\n",
        "import pandas as pd\n",
        "import torch\n",
        "from torch.nn.utils.rnn import pad_sequence\n",
        "import numpy as np\n"
      ]
    },
    {
      "cell_type": "code",
      "execution_count": null,
      "metadata": {
        "id": "I4i7QOHr5qps"
      },
      "outputs": [],
      "source": [
        "data=pd.read_csv(\"/content/drive/MyDrive/ANLP_project/validation.csv\")"
      ]
    },
    {
      "cell_type": "code",
      "execution_count": null,
      "metadata": {
        "colab": {
          "base_uri": "https://localhost:8080/",
          "height": 206
        },
        "id": "mpVnzCrw7U3h",
        "outputId": "c4c8e4a0-0cf4-474e-c0d5-57d2ac7a57c8"
      },
      "outputs": [
        {
          "data": {
            "application/vnd.google.colaboratory.intrinsic+json": {
              "summary": "{\n  \"name\": \"data\",\n  \"rows\": 10000,\n  \"fields\": [\n    {\n      \"column\": \"id\",\n      \"properties\": {\n        \"dtype\": \"string\",\n        \"num_unique_values\": 10000,\n        \"samples\": [\n          \"85f2c4adafc968f0f3aa23924bf71436b28ab7ba\",\n          \"40ec46a7282b15ab99e8da32c880a79873fa64b6\",\n          \"0692ff8964ad2f01f5763c6c57b9cbbcb2f41a35\"\n        ],\n        \"semantic_type\": \"\",\n        \"description\": \"\"\n      }\n    },\n    {\n      \"column\": \"article\",\n      \"properties\": {\n        \"dtype\": \"string\",\n        \"num_unique_values\": 10000,\n        \"samples\": [\n          \"Real Madrid's 4-3 loss to Schalke  has prompted further calls for change in the Spanish capital. They progressed to the quarter-finals of the Champions League thanks to a 2-0 win in the first leg, but Tuesday night was supposed to be easy. On Sunday, their place at the top of La Liga was swiped from underneath them, and 92% of fans have demanded a change in tactical approach, according to a recent poll in\\u00a0AS. Most players have been criticised - Cristiano Ronaldo included - but perhaps most under-fire is Iker Casillas. Mr Real Madrid, with over 500 appearances. Real Madrid goalkeeper Iker Casillas has come under heavy scrutiny after a series of poor performances . Manchester United goalkeeper David De Gea has been touted as the perfect replacement at Real Madrid . Three of Schalke's four goals could have been saved, they said. Casillas needs to leave, they said. At 33 years of age, he may well be past his best, with three European Cups, five league titles and one World Cup tucked safely under his belt. Manchester United's David De Gea has been touted as his possible replacement, and even\\u00a0Sportsmail's Jamie Carragher waded into the debate on Tuesday night. 'Madrid need a new keeper. De Gea wants to win trophies. No brainer,' he wrote on Twitter. De Gea was labelled the best goalkeeper in the world by Roy Keane this week, and may leave United . Keylor Navas is also waiting for his chance at the Bernabeu after joining in the summer . And perhaps he has a point. Manchester United have fallen short of expectations once more, and De Gea will be keen to taste success... where better than the city he was born? He is a Spain international, and certainly talented enough to take the reins from his countryman. But you get the feeling that Real Madrid would not be the same without Casillas. Since 1999, he has been a main-stay at the Bernabeu. At the end of the game on Tuesday night, there was an endearing moment in which he refused to let his team-mates leave the pitch before thanking the Madrid fans. Casillas would not let his team-mates leave the pitch on Tuesday night before they thanked the supporters . Cristiano Ronaldo was unhappy at his side's performance, but was made to applaud the fans by Casillas . Pointing and pulling, ushering his team-mates to the corners of the pitch to applaud the supporters. But still they want rid. For the first goal, he palmed the ball into his bottom corner. For the second, he pushed it into the path of Klaas-Jan Huntelaar. For the third, he was rooted to the spot. Success is in Madrid's nature, and their fans aren't happy with the amount of goals they are conceding. That starts at the back... with Casillas. Aside from De Gea's potential arrival, you can't forget the presence of Keylor Navas. Signed from Levante in the summer, he is waiting, willing, wishing for his chance. De Gea is a Spain international and grew up in Madrid, playing for Atletico before moving to Man United . Casillas has had a remarkable career, winning numerous trophies including the 2010 World Cup . But De Gea makes sense. He is 24 years old, and getting better with every game he plays. Signed by Sir Alex Ferguson for just shy of \\u00a319million in 2011, United would make a tidy profit on him if he were to leave. 'I think David De Gea is the best goalkeeper in the world at the moment,' Roy Keane told ITV after Monday night's FA Cup clash with Arsenal. The best goalkeeper in the world to one of the best football clubs in the world. Maybe Jamie Carragher has called it right again.\",\n          \"With their adorable big round eyes and fluffy white fur, these baby seals are cute enough to melt any heart. The harp seals, aged between two and 10-days-old, roll around in the snow and explore their new surroundings. The adorable scene was captured in the Gulf of St Lawrence, Canada, by Belgian photographer Ellen Cuylaerts. Snow cute: With their adorable big round eyes and fluffy white fur, these baby seals are cute enough to melt any heart . Brrrilliant: The harp seals, aged between two and 10-days-old, roll around in the snow and explore their new surroundings . Heart-warming: The images were taken by\\u00a0in the Gulf of St Lawrence, Canada, by Belgian photographer Ellen Cuylaerts . The 44-year-old spent three days with the seals when she visited a breeding site earlier this month. Cuylaerts, of Grand Cayman, Cayman Islands, says: 'It's truly beautiful to watch the little ones get all cosy on the ice. 'They shuffle around, rest, and start squealing when feeding time comes and they're hungry. 'To be there, in the middle of their habitat, was a really great experience. 'The pups basically fill their days with sleeping, eating and getting fat. They spend their first 12 days feeding on very high fat milk from their mothers.' Photographer Ellen Cuylaerts said: 'It's truly beautiful to watch the little ones get all cosy on the ice' 'The pups basically fill their days with sleeping, eating and getting fat,' said Cuylaerts . Cuylaerts, who visited the seals with her husband Michael, watched as the newborns' coats lost there yellow hue and turned completely white . Cuylaerts said that the biggest threat against the seal population is humans . Having gained the trust of the seals, Cuylaerts was able to get within one metre of the pups by lying flat on her stomach and shuffling slowly towards them. Cuylaerts, who visited the seals with her husband Michael, watched as the newborns' coats lost there yellow hue and turned completely white and fluffy over the course of two days. The fur of the harp seal, a species native to the northernmost Atlantic Ocean and parts of the Arctic Ocean, is a highly valued commodity, and animal rights groups continue to campaign against hunters who target seals. Hunted: The fur of the harp seal, a species native to the northernmost Atlantic Ocean and parts of the Arctic Ocean, is a highly valued commodity . Cuylaerts was able to get within one metre of the pups by lying flat on her stomach and shuffling slowly towards them . Animal rights groups continue to campaign against hunters who target seals . Loll: The seals love resting on their backs in their icy home . Bliss: This seal looks totally content as it basks in the sun . Adorable: This seal fixes Cuylaerts with its big brown eyes . Cuylaerts says: 'For the harp seal, the biggest threat against their population is humans as the clubbing of seals is still happening. 'When the pups are aged between one and twelve-days old, they cannot be killed but, after the seal's fur starts to molt, the hunt is on. 'The seals are defenceless, not able to swim away or get away! It is cruel and unnecessary.'\",\n          \"Every child dreams of living in a magical land, complete with dragons and castles, as well as their favorite fairytale characters. And now those childhood dreams could become a reality - at the bargain price of just $2.7million (\\u00a31.74million). The Enchanted Forest, in British Columbia, not only boasts 38.1 acres of beautiful woodland, but also a host of colorful characters to keep its new owners company - from Captain Hook and Snow White, to Humpty Dumpty and the Pied Piper. Magic: The Enchanted Forest theme park in Calgary, British Columbia, is on sale for a bargain $2.7million . Attraction: Up to 1,000 visitors a day are said the flock to the park - which was lovingly created over 10 years more than 70 years ago . Neighbors: The forest has been filled with a host of magical characters to keep the new owner company during the quieter periods . Properties: It also boasts a host of different homes for the new owner to explore - including this one, the home of the Three Bears . The new owner will also get their pick of the properties, from the Three Bears' cozy cottage, to their very own castle - although they may have to watch out for the dragon peeking over the battlements. They'll also be the proud holder of British Columbia's tallest treehouse, which soars 50 feet into the sky. And if it is peace and quiet they seek, they can certainly find plenty of that in the forest: the nearest major town is Calgary, 275 miles away. However, if magic isn't quite your cup of tea, \\u00a0the property also boasts a high-rope assault course, mile-long nature trail and lake. Record breaking: The park also has the tallest treehouse in the whole of British Columbia, soaring 50 feet into the sky . Hard work: The figurines dotted around the forest were lovingly created by the park's first owner, Doris Needham . Enchanting: Doris was an artist in the 1950s who wanted the perfect space to place the figurines - and settled on the forest . For sale: It was bought in 1990 by Rocky and Juliet Ehlers, who have now decided it is time to retire . Continue: But Rocky has said he very much hopes the new owners will continue to run the much-loved park as a tourist attraction . The Enchanted Forest was opened as a theme park in the 1960s after 10 years of hard work by Doris and Ernest Needham, who lived in their very own Candy Cane House. Indeed, it was Doris' own artistic talent which helped create the 350 figurines scattered about the neighborhood. She searched for the perfect location for her unusual figurines for two years, before settling on this space in the Cedar Mountains. Since 1990, however, the popular attraction has been owned by\\u00a0Rocky and Juliet Ehlers. The couple, having lovingly run the forest as a theme park for 25 years, have now decided to hang up their ruby slippers for good, and enjoy a quieter retirement. Interest: There is already a lot of interest in buying the property - with inquiries flooding in from all over the world . Bargain: The theme park is far cheaper than Michael Jackson's Neverland, which was expected to fetch $85million last year . Bright: It is also a bargain when compared to the cost of flats in some of the most expensive cities in the world . Rocky, 69, told the Revelstoke Times Review: \\u00a0'It's been very enjoyable years and it's time we move on.' He remains hopeful whoever buys the Enchanted Forest - which can still attract up to 1,000 visitors a day - will keep running it as a theme park. Estate agent Steve Daschuk said: 'This is such a magical property. So far we've had interest from all over Canada and internationally. 'We've even had people get in touch from China, enquiring about the forest.' And that is perhaps not surprising: the theme park's asking price is a snip of that sought for Michael Jackson's Neverland, which was expected to get as much as $85million when it went on sale last year. It is also just a million dollars more than the average flat price in Manhattan, the same price as a two-bedroom flat in central London and Hong Kong. Dragons: Estate agent\\u00a0Steve Daschuk described it as 'such a magical property', and said people from China had expressed interest . Remote: The nearest large town is Calgary - which is 275 miles away from the Enchanted Forest .\"\n        ],\n        \"semantic_type\": \"\",\n        \"description\": \"\"\n      }\n    },\n    {\n      \"column\": \"highlights\",\n      \"properties\": {\n        \"dtype\": \"string\",\n        \"num_unique_values\": 9962,\n        \"samples\": [\n          \"Ireland's iconic captain Paul O'Connell wins his 100th cap against Wales .\\nA lot has changed since the Munster man made his debut in 2002 .\\nBut Wales\\u00a0scrum-half Rhys Webb has plan to ruin the big day .\\nWebb says he did not agree with way England approached Ireland game .\",\n          \"Labour launched poster claiming the NHS faced a 'Tory cuts plan'\\nThe advert featured an x-ray showing a broken leg of a suspected toddler .\\nMedical experts say it also shows other older injuries to leg and ankle .\\nAppears 'very likely non-accidental injury' and could be result of abuse .\",\n          \"John Watson,  former McLaren driver, was alarmed by race in Melbourne .\\nHe believes the FIA and CVC need to sit down and\\u00a0discuss\\u00a0direction\\u00a0of F1 .\\nOnly 15 cars started the season-opening Australian Grand Prix .\\nWatson fears fans and sponsors are turned off by Mercedes domination .\\nBut he expects McLaren and Honda to recover from difficult starts .\"\n        ],\n        \"semantic_type\": \"\",\n        \"description\": \"\"\n      }\n    }\n  ]\n}",
              "type": "dataframe",
              "variable_name": "data"
            },
            "text/html": [
              "\n",
              "  <div id=\"df-c99f9cd3-32b7-471a-b57c-a50cd7e5aea6\" class=\"colab-df-container\">\n",
              "    <div>\n",
              "<style scoped>\n",
              "    .dataframe tbody tr th:only-of-type {\n",
              "        vertical-align: middle;\n",
              "    }\n",
              "\n",
              "    .dataframe tbody tr th {\n",
              "        vertical-align: top;\n",
              "    }\n",
              "\n",
              "    .dataframe thead th {\n",
              "        text-align: right;\n",
              "    }\n",
              "</style>\n",
              "<table border=\"1\" class=\"dataframe\">\n",
              "  <thead>\n",
              "    <tr style=\"text-align: right;\">\n",
              "      <th></th>\n",
              "      <th>id</th>\n",
              "      <th>article</th>\n",
              "      <th>highlights</th>\n",
              "    </tr>\n",
              "  </thead>\n",
              "  <tbody>\n",
              "    <tr>\n",
              "      <th>0</th>\n",
              "      <td>61df4979ac5fcc2b71be46ed6fe5a46ce7f071c3</td>\n",
              "      <td>Sally Forrest, an actress-dancer who graced th...</td>\n",
              "      <td>Sally Forrest, an actress-dancer who graced th...</td>\n",
              "    </tr>\n",
              "    <tr>\n",
              "      <th>1</th>\n",
              "      <td>21c0bd69b7e7df285c3d1b1cf56d4da925980a68</td>\n",
              "      <td>A middle-school teacher in China has inked hun...</td>\n",
              "      <td>Works include pictures of Presidential Palace ...</td>\n",
              "    </tr>\n",
              "    <tr>\n",
              "      <th>2</th>\n",
              "      <td>56f340189cd128194b2e7cb8c26bb900e3a848b4</td>\n",
              "      <td>A man convicted of killing the father and sist...</td>\n",
              "      <td>Iftekhar Murtaza, 29, was convicted a year ago...</td>\n",
              "    </tr>\n",
              "    <tr>\n",
              "      <th>3</th>\n",
              "      <td>00a665151b89a53e5a08a389df8334f4106494c2</td>\n",
              "      <td>Avid rugby fan Prince Harry could barely watch...</td>\n",
              "      <td>Prince Harry in attendance for England's crunc...</td>\n",
              "    </tr>\n",
              "    <tr>\n",
              "      <th>4</th>\n",
              "      <td>9f6fbd3c497c4d28879bebebea220884f03eb41a</td>\n",
              "      <td>A Triple M Radio producer has been inundated w...</td>\n",
              "      <td>Nick Slater's colleagues uploaded a picture to...</td>\n",
              "    </tr>\n",
              "  </tbody>\n",
              "</table>\n",
              "</div>\n",
              "    <div class=\"colab-df-buttons\">\n",
              "\n",
              "  <div class=\"colab-df-container\">\n",
              "    <button class=\"colab-df-convert\" onclick=\"convertToInteractive('df-c99f9cd3-32b7-471a-b57c-a50cd7e5aea6')\"\n",
              "            title=\"Convert this dataframe to an interactive table.\"\n",
              "            style=\"display:none;\">\n",
              "\n",
              "  <svg xmlns=\"http://www.w3.org/2000/svg\" height=\"24px\" viewBox=\"0 -960 960 960\">\n",
              "    <path d=\"M120-120v-720h720v720H120Zm60-500h600v-160H180v160Zm220 220h160v-160H400v160Zm0 220h160v-160H400v160ZM180-400h160v-160H180v160Zm440 0h160v-160H620v160ZM180-180h160v-160H180v160Zm440 0h160v-160H620v160Z\"/>\n",
              "  </svg>\n",
              "    </button>\n",
              "\n",
              "  <style>\n",
              "    .colab-df-container {\n",
              "      display:flex;\n",
              "      gap: 12px;\n",
              "    }\n",
              "\n",
              "    .colab-df-convert {\n",
              "      background-color: #E8F0FE;\n",
              "      border: none;\n",
              "      border-radius: 50%;\n",
              "      cursor: pointer;\n",
              "      display: none;\n",
              "      fill: #1967D2;\n",
              "      height: 32px;\n",
              "      padding: 0 0 0 0;\n",
              "      width: 32px;\n",
              "    }\n",
              "\n",
              "    .colab-df-convert:hover {\n",
              "      background-color: #E2EBFA;\n",
              "      box-shadow: 0px 1px 2px rgba(60, 64, 67, 0.3), 0px 1px 3px 1px rgba(60, 64, 67, 0.15);\n",
              "      fill: #174EA6;\n",
              "    }\n",
              "\n",
              "    .colab-df-buttons div {\n",
              "      margin-bottom: 4px;\n",
              "    }\n",
              "\n",
              "    [theme=dark] .colab-df-convert {\n",
              "      background-color: #3B4455;\n",
              "      fill: #D2E3FC;\n",
              "    }\n",
              "\n",
              "    [theme=dark] .colab-df-convert:hover {\n",
              "      background-color: #434B5C;\n",
              "      box-shadow: 0px 1px 3px 1px rgba(0, 0, 0, 0.15);\n",
              "      filter: drop-shadow(0px 1px 2px rgba(0, 0, 0, 0.3));\n",
              "      fill: #FFFFFF;\n",
              "    }\n",
              "  </style>\n",
              "\n",
              "    <script>\n",
              "      const buttonEl =\n",
              "        document.querySelector('#df-c99f9cd3-32b7-471a-b57c-a50cd7e5aea6 button.colab-df-convert');\n",
              "      buttonEl.style.display =\n",
              "        google.colab.kernel.accessAllowed ? 'block' : 'none';\n",
              "\n",
              "      async function convertToInteractive(key) {\n",
              "        const element = document.querySelector('#df-c99f9cd3-32b7-471a-b57c-a50cd7e5aea6');\n",
              "        const dataTable =\n",
              "          await google.colab.kernel.invokeFunction('convertToInteractive',\n",
              "                                                    [key], {});\n",
              "        if (!dataTable) return;\n",
              "\n",
              "        const docLinkHtml = 'Like what you see? Visit the ' +\n",
              "          '<a target=\"_blank\" href=https://colab.research.google.com/notebooks/data_table.ipynb>data table notebook</a>'\n",
              "          + ' to learn more about interactive tables.';\n",
              "        element.innerHTML = '';\n",
              "        dataTable['output_type'] = 'display_data';\n",
              "        await google.colab.output.renderOutput(dataTable, element);\n",
              "        const docLink = document.createElement('div');\n",
              "        docLink.innerHTML = docLinkHtml;\n",
              "        element.appendChild(docLink);\n",
              "      }\n",
              "    </script>\n",
              "  </div>\n",
              "\n",
              "\n",
              "    <div id=\"df-e9dc26ba-96f7-41b1-809a-14007042b2a9\">\n",
              "      <button class=\"colab-df-quickchart\" onclick=\"quickchart('df-e9dc26ba-96f7-41b1-809a-14007042b2a9')\"\n",
              "                title=\"Suggest charts\"\n",
              "                style=\"display:none;\">\n",
              "\n",
              "<svg xmlns=\"http://www.w3.org/2000/svg\" height=\"24px\"viewBox=\"0 0 24 24\"\n",
              "     width=\"24px\">\n",
              "    <g>\n",
              "        <path d=\"M19 3H5c-1.1 0-2 .9-2 2v14c0 1.1.9 2 2 2h14c1.1 0 2-.9 2-2V5c0-1.1-.9-2-2-2zM9 17H7v-7h2v7zm4 0h-2V7h2v10zm4 0h-2v-4h2v4z\"/>\n",
              "    </g>\n",
              "</svg>\n",
              "      </button>\n",
              "\n",
              "<style>\n",
              "  .colab-df-quickchart {\n",
              "      --bg-color: #E8F0FE;\n",
              "      --fill-color: #1967D2;\n",
              "      --hover-bg-color: #E2EBFA;\n",
              "      --hover-fill-color: #174EA6;\n",
              "      --disabled-fill-color: #AAA;\n",
              "      --disabled-bg-color: #DDD;\n",
              "  }\n",
              "\n",
              "  [theme=dark] .colab-df-quickchart {\n",
              "      --bg-color: #3B4455;\n",
              "      --fill-color: #D2E3FC;\n",
              "      --hover-bg-color: #434B5C;\n",
              "      --hover-fill-color: #FFFFFF;\n",
              "      --disabled-bg-color: #3B4455;\n",
              "      --disabled-fill-color: #666;\n",
              "  }\n",
              "\n",
              "  .colab-df-quickchart {\n",
              "    background-color: var(--bg-color);\n",
              "    border: none;\n",
              "    border-radius: 50%;\n",
              "    cursor: pointer;\n",
              "    display: none;\n",
              "    fill: var(--fill-color);\n",
              "    height: 32px;\n",
              "    padding: 0;\n",
              "    width: 32px;\n",
              "  }\n",
              "\n",
              "  .colab-df-quickchart:hover {\n",
              "    background-color: var(--hover-bg-color);\n",
              "    box-shadow: 0 1px 2px rgba(60, 64, 67, 0.3), 0 1px 3px 1px rgba(60, 64, 67, 0.15);\n",
              "    fill: var(--button-hover-fill-color);\n",
              "  }\n",
              "\n",
              "  .colab-df-quickchart-complete:disabled,\n",
              "  .colab-df-quickchart-complete:disabled:hover {\n",
              "    background-color: var(--disabled-bg-color);\n",
              "    fill: var(--disabled-fill-color);\n",
              "    box-shadow: none;\n",
              "  }\n",
              "\n",
              "  .colab-df-spinner {\n",
              "    border: 2px solid var(--fill-color);\n",
              "    border-color: transparent;\n",
              "    border-bottom-color: var(--fill-color);\n",
              "    animation:\n",
              "      spin 1s steps(1) infinite;\n",
              "  }\n",
              "\n",
              "  @keyframes spin {\n",
              "    0% {\n",
              "      border-color: transparent;\n",
              "      border-bottom-color: var(--fill-color);\n",
              "      border-left-color: var(--fill-color);\n",
              "    }\n",
              "    20% {\n",
              "      border-color: transparent;\n",
              "      border-left-color: var(--fill-color);\n",
              "      border-top-color: var(--fill-color);\n",
              "    }\n",
              "    30% {\n",
              "      border-color: transparent;\n",
              "      border-left-color: var(--fill-color);\n",
              "      border-top-color: var(--fill-color);\n",
              "      border-right-color: var(--fill-color);\n",
              "    }\n",
              "    40% {\n",
              "      border-color: transparent;\n",
              "      border-right-color: var(--fill-color);\n",
              "      border-top-color: var(--fill-color);\n",
              "    }\n",
              "    60% {\n",
              "      border-color: transparent;\n",
              "      border-right-color: var(--fill-color);\n",
              "    }\n",
              "    80% {\n",
              "      border-color: transparent;\n",
              "      border-right-color: var(--fill-color);\n",
              "      border-bottom-color: var(--fill-color);\n",
              "    }\n",
              "    90% {\n",
              "      border-color: transparent;\n",
              "      border-bottom-color: var(--fill-color);\n",
              "    }\n",
              "  }\n",
              "</style>\n",
              "\n",
              "      <script>\n",
              "        async function quickchart(key) {\n",
              "          const quickchartButtonEl =\n",
              "            document.querySelector('#' + key + ' button');\n",
              "          quickchartButtonEl.disabled = true;  // To prevent multiple clicks.\n",
              "          quickchartButtonEl.classList.add('colab-df-spinner');\n",
              "          try {\n",
              "            const charts = await google.colab.kernel.invokeFunction(\n",
              "                'suggestCharts', [key], {});\n",
              "          } catch (error) {\n",
              "            console.error('Error during call to suggestCharts:', error);\n",
              "          }\n",
              "          quickchartButtonEl.classList.remove('colab-df-spinner');\n",
              "          quickchartButtonEl.classList.add('colab-df-quickchart-complete');\n",
              "        }\n",
              "        (() => {\n",
              "          let quickchartButtonEl =\n",
              "            document.querySelector('#df-e9dc26ba-96f7-41b1-809a-14007042b2a9 button');\n",
              "          quickchartButtonEl.style.display =\n",
              "            google.colab.kernel.accessAllowed ? 'block' : 'none';\n",
              "        })();\n",
              "      </script>\n",
              "    </div>\n",
              "\n",
              "    </div>\n",
              "  </div>\n"
            ],
            "text/plain": [
              "                                         id  \\\n",
              "0  61df4979ac5fcc2b71be46ed6fe5a46ce7f071c3   \n",
              "1  21c0bd69b7e7df285c3d1b1cf56d4da925980a68   \n",
              "2  56f340189cd128194b2e7cb8c26bb900e3a848b4   \n",
              "3  00a665151b89a53e5a08a389df8334f4106494c2   \n",
              "4  9f6fbd3c497c4d28879bebebea220884f03eb41a   \n",
              "\n",
              "                                             article  \\\n",
              "0  Sally Forrest, an actress-dancer who graced th...   \n",
              "1  A middle-school teacher in China has inked hun...   \n",
              "2  A man convicted of killing the father and sist...   \n",
              "3  Avid rugby fan Prince Harry could barely watch...   \n",
              "4  A Triple M Radio producer has been inundated w...   \n",
              "\n",
              "                                          highlights  \n",
              "0  Sally Forrest, an actress-dancer who graced th...  \n",
              "1  Works include pictures of Presidential Palace ...  \n",
              "2  Iftekhar Murtaza, 29, was convicted a year ago...  \n",
              "3  Prince Harry in attendance for England's crunc...  \n",
              "4  Nick Slater's colleagues uploaded a picture to...  "
            ]
          },
          "execution_count": 25,
          "metadata": {},
          "output_type": "execute_result"
        }
      ],
      "source": [
        "data=data[0:10000]\n",
        "data.head()"
      ]
    },
    {
      "cell_type": "code",
      "execution_count": null,
      "metadata": {
        "colab": {
          "base_uri": "https://localhost:8080/",
          "height": 206
        },
        "id": "mYGjhA0g7e-U",
        "outputId": "e0fa26b8-f692-4eb4-d922-f9f740c060c0"
      },
      "outputs": [
        {
          "data": {
            "application/vnd.google.colaboratory.intrinsic+json": {
              "summary": "{\n  \"name\": \"data\",\n  \"rows\": 10000,\n  \"fields\": [\n    {\n      \"column\": \"Article\",\n      \"properties\": {\n        \"dtype\": \"string\",\n        \"num_unique_values\": 10000,\n        \"samples\": [\n          \"Real Madrid's 4-3 loss to Schalke  has prompted further calls for change in the Spanish capital. They progressed to the quarter-finals of the Champions League thanks to a 2-0 win in the first leg, but Tuesday night was supposed to be easy. On Sunday, their place at the top of La Liga was swiped from underneath them, and 92% of fans have demanded a change in tactical approach, according to a recent poll in\\u00a0AS. Most players have been criticised - Cristiano Ronaldo included - but perhaps most under-fire is Iker Casillas. Mr Real Madrid, with over 500 appearances. Real Madrid goalkeeper Iker Casillas has come under heavy scrutiny after a series of poor performances . Manchester United goalkeeper David De Gea has been touted as the perfect replacement at Real Madrid . Three of Schalke's four goals could have been saved, they said. Casillas needs to leave, they said. At 33 years of age, he may well be past his best, with three European Cups, five league titles and one World Cup tucked safely under his belt. Manchester United's David De Gea has been touted as his possible replacement, and even\\u00a0Sportsmail's Jamie Carragher waded into the debate on Tuesday night. 'Madrid need a new keeper. De Gea wants to win trophies. No brainer,' he wrote on Twitter. De Gea was labelled the best goalkeeper in the world by Roy Keane this week, and may leave United . Keylor Navas is also waiting for his chance at the Bernabeu after joining in the summer . And perhaps he has a point. Manchester United have fallen short of expectations once more, and De Gea will be keen to taste success... where better than the city he was born? He is a Spain international, and certainly talented enough to take the reins from his countryman. But you get the feeling that Real Madrid would not be the same without Casillas. Since 1999, he has been a main-stay at the Bernabeu. At the end of the game on Tuesday night, there was an endearing moment in which he refused to let his team-mates leave the pitch before thanking the Madrid fans. Casillas would not let his team-mates leave the pitch on Tuesday night before they thanked the supporters . Cristiano Ronaldo was unhappy at his side's performance, but was made to applaud the fans by Casillas . Pointing and pulling, ushering his team-mates to the corners of the pitch to applaud the supporters. But still they want rid. For the first goal, he palmed the ball into his bottom corner. For the second, he pushed it into the path of Klaas-Jan Huntelaar. For the third, he was rooted to the spot. Success is in Madrid's nature, and their fans aren't happy with the amount of goals they are conceding. That starts at the back... with Casillas. Aside from De Gea's potential arrival, you can't forget the presence of Keylor Navas. Signed from Levante in the summer, he is waiting, willing, wishing for his chance. De Gea is a Spain international and grew up in Madrid, playing for Atletico before moving to Man United . Casillas has had a remarkable career, winning numerous trophies including the 2010 World Cup . But De Gea makes sense. He is 24 years old, and getting better with every game he plays. Signed by Sir Alex Ferguson for just shy of \\u00a319million in 2011, United would make a tidy profit on him if he were to leave. 'I think David De Gea is the best goalkeeper in the world at the moment,' Roy Keane told ITV after Monday night's FA Cup clash with Arsenal. The best goalkeeper in the world to one of the best football clubs in the world. Maybe Jamie Carragher has called it right again.\",\n          \"With their adorable big round eyes and fluffy white fur, these baby seals are cute enough to melt any heart. The harp seals, aged between two and 10-days-old, roll around in the snow and explore their new surroundings. The adorable scene was captured in the Gulf of St Lawrence, Canada, by Belgian photographer Ellen Cuylaerts. Snow cute: With their adorable big round eyes and fluffy white fur, these baby seals are cute enough to melt any heart . Brrrilliant: The harp seals, aged between two and 10-days-old, roll around in the snow and explore their new surroundings . Heart-warming: The images were taken by\\u00a0in the Gulf of St Lawrence, Canada, by Belgian photographer Ellen Cuylaerts . The 44-year-old spent three days with the seals when she visited a breeding site earlier this month. Cuylaerts, of Grand Cayman, Cayman Islands, says: 'It's truly beautiful to watch the little ones get all cosy on the ice. 'They shuffle around, rest, and start squealing when feeding time comes and they're hungry. 'To be there, in the middle of their habitat, was a really great experience. 'The pups basically fill their days with sleeping, eating and getting fat. They spend their first 12 days feeding on very high fat milk from their mothers.' Photographer Ellen Cuylaerts said: 'It's truly beautiful to watch the little ones get all cosy on the ice' 'The pups basically fill their days with sleeping, eating and getting fat,' said Cuylaerts . Cuylaerts, who visited the seals with her husband Michael, watched as the newborns' coats lost there yellow hue and turned completely white . Cuylaerts said that the biggest threat against the seal population is humans . Having gained the trust of the seals, Cuylaerts was able to get within one metre of the pups by lying flat on her stomach and shuffling slowly towards them. Cuylaerts, who visited the seals with her husband Michael, watched as the newborns' coats lost there yellow hue and turned completely white and fluffy over the course of two days. The fur of the harp seal, a species native to the northernmost Atlantic Ocean and parts of the Arctic Ocean, is a highly valued commodity, and animal rights groups continue to campaign against hunters who target seals. Hunted: The fur of the harp seal, a species native to the northernmost Atlantic Ocean and parts of the Arctic Ocean, is a highly valued commodity . Cuylaerts was able to get within one metre of the pups by lying flat on her stomach and shuffling slowly towards them . Animal rights groups continue to campaign against hunters who target seals . Loll: The seals love resting on their backs in their icy home . Bliss: This seal looks totally content as it basks in the sun . Adorable: This seal fixes Cuylaerts with its big brown eyes . Cuylaerts says: 'For the harp seal, the biggest threat against their population is humans as the clubbing of seals is still happening. 'When the pups are aged between one and twelve-days old, they cannot be killed but, after the seal's fur starts to molt, the hunt is on. 'The seals are defenceless, not able to swim away or get away! It is cruel and unnecessary.'\",\n          \"Every child dreams of living in a magical land, complete with dragons and castles, as well as their favorite fairytale characters. And now those childhood dreams could become a reality - at the bargain price of just $2.7million (\\u00a31.74million). The Enchanted Forest, in British Columbia, not only boasts 38.1 acres of beautiful woodland, but also a host of colorful characters to keep its new owners company - from Captain Hook and Snow White, to Humpty Dumpty and the Pied Piper. Magic: The Enchanted Forest theme park in Calgary, British Columbia, is on sale for a bargain $2.7million . Attraction: Up to 1,000 visitors a day are said the flock to the park - which was lovingly created over 10 years more than 70 years ago . Neighbors: The forest has been filled with a host of magical characters to keep the new owner company during the quieter periods . Properties: It also boasts a host of different homes for the new owner to explore - including this one, the home of the Three Bears . The new owner will also get their pick of the properties, from the Three Bears' cozy cottage, to their very own castle - although they may have to watch out for the dragon peeking over the battlements. They'll also be the proud holder of British Columbia's tallest treehouse, which soars 50 feet into the sky. And if it is peace and quiet they seek, they can certainly find plenty of that in the forest: the nearest major town is Calgary, 275 miles away. However, if magic isn't quite your cup of tea, \\u00a0the property also boasts a high-rope assault course, mile-long nature trail and lake. Record breaking: The park also has the tallest treehouse in the whole of British Columbia, soaring 50 feet into the sky . Hard work: The figurines dotted around the forest were lovingly created by the park's first owner, Doris Needham . Enchanting: Doris was an artist in the 1950s who wanted the perfect space to place the figurines - and settled on the forest . For sale: It was bought in 1990 by Rocky and Juliet Ehlers, who have now decided it is time to retire . Continue: But Rocky has said he very much hopes the new owners will continue to run the much-loved park as a tourist attraction . The Enchanted Forest was opened as a theme park in the 1960s after 10 years of hard work by Doris and Ernest Needham, who lived in their very own Candy Cane House. Indeed, it was Doris' own artistic talent which helped create the 350 figurines scattered about the neighborhood. She searched for the perfect location for her unusual figurines for two years, before settling on this space in the Cedar Mountains. Since 1990, however, the popular attraction has been owned by\\u00a0Rocky and Juliet Ehlers. The couple, having lovingly run the forest as a theme park for 25 years, have now decided to hang up their ruby slippers for good, and enjoy a quieter retirement. Interest: There is already a lot of interest in buying the property - with inquiries flooding in from all over the world . Bargain: The theme park is far cheaper than Michael Jackson's Neverland, which was expected to fetch $85million last year . Bright: It is also a bargain when compared to the cost of flats in some of the most expensive cities in the world . Rocky, 69, told the Revelstoke Times Review: \\u00a0'It's been very enjoyable years and it's time we move on.' He remains hopeful whoever buys the Enchanted Forest - which can still attract up to 1,000 visitors a day - will keep running it as a theme park. Estate agent Steve Daschuk said: 'This is such a magical property. So far we've had interest from all over Canada and internationally. 'We've even had people get in touch from China, enquiring about the forest.' And that is perhaps not surprising: the theme park's asking price is a snip of that sought for Michael Jackson's Neverland, which was expected to get as much as $85million when it went on sale last year. It is also just a million dollars more than the average flat price in Manhattan, the same price as a two-bedroom flat in central London and Hong Kong. Dragons: Estate agent\\u00a0Steve Daschuk described it as 'such a magical property', and said people from China had expressed interest . Remote: The nearest large town is Calgary - which is 275 miles away from the Enchanted Forest .\"\n        ],\n        \"semantic_type\": \"\",\n        \"description\": \"\"\n      }\n    },\n    {\n      \"column\": \"Summary\",\n      \"properties\": {\n        \"dtype\": \"string\",\n        \"num_unique_values\": 9962,\n        \"samples\": [\n          \"Ireland's iconic captain Paul O'Connell wins his 100th cap against Wales .\\nA lot has changed since the Munster man made his debut in 2002 .\\nBut Wales\\u00a0scrum-half Rhys Webb has plan to ruin the big day .\\nWebb says he did not agree with way England approached Ireland game .\",\n          \"Labour launched poster claiming the NHS faced a 'Tory cuts plan'\\nThe advert featured an x-ray showing a broken leg of a suspected toddler .\\nMedical experts say it also shows other older injuries to leg and ankle .\\nAppears 'very likely non-accidental injury' and could be result of abuse .\",\n          \"John Watson,  former McLaren driver, was alarmed by race in Melbourne .\\nHe believes the FIA and CVC need to sit down and\\u00a0discuss\\u00a0direction\\u00a0of F1 .\\nOnly 15 cars started the season-opening Australian Grand Prix .\\nWatson fears fans and sponsors are turned off by Mercedes domination .\\nBut he expects McLaren and Honda to recover from difficult starts .\"\n        ],\n        \"semantic_type\": \"\",\n        \"description\": \"\"\n      }\n    }\n  ]\n}",
              "type": "dataframe",
              "variable_name": "data"
            },
            "text/html": [
              "\n",
              "  <div id=\"df-e0bc4f2e-ee9b-4d36-abab-060be5a62cef\" class=\"colab-df-container\">\n",
              "    <div>\n",
              "<style scoped>\n",
              "    .dataframe tbody tr th:only-of-type {\n",
              "        vertical-align: middle;\n",
              "    }\n",
              "\n",
              "    .dataframe tbody tr th {\n",
              "        vertical-align: top;\n",
              "    }\n",
              "\n",
              "    .dataframe thead th {\n",
              "        text-align: right;\n",
              "    }\n",
              "</style>\n",
              "<table border=\"1\" class=\"dataframe\">\n",
              "  <thead>\n",
              "    <tr style=\"text-align: right;\">\n",
              "      <th></th>\n",
              "      <th>Article</th>\n",
              "      <th>Summary</th>\n",
              "    </tr>\n",
              "  </thead>\n",
              "  <tbody>\n",
              "    <tr>\n",
              "      <th>0</th>\n",
              "      <td>Sally Forrest, an actress-dancer who graced th...</td>\n",
              "      <td>Sally Forrest, an actress-dancer who graced th...</td>\n",
              "    </tr>\n",
              "    <tr>\n",
              "      <th>1</th>\n",
              "      <td>A middle-school teacher in China has inked hun...</td>\n",
              "      <td>Works include pictures of Presidential Palace ...</td>\n",
              "    </tr>\n",
              "    <tr>\n",
              "      <th>2</th>\n",
              "      <td>A man convicted of killing the father and sist...</td>\n",
              "      <td>Iftekhar Murtaza, 29, was convicted a year ago...</td>\n",
              "    </tr>\n",
              "    <tr>\n",
              "      <th>3</th>\n",
              "      <td>Avid rugby fan Prince Harry could barely watch...</td>\n",
              "      <td>Prince Harry in attendance for England's crunc...</td>\n",
              "    </tr>\n",
              "    <tr>\n",
              "      <th>4</th>\n",
              "      <td>A Triple M Radio producer has been inundated w...</td>\n",
              "      <td>Nick Slater's colleagues uploaded a picture to...</td>\n",
              "    </tr>\n",
              "  </tbody>\n",
              "</table>\n",
              "</div>\n",
              "    <div class=\"colab-df-buttons\">\n",
              "\n",
              "  <div class=\"colab-df-container\">\n",
              "    <button class=\"colab-df-convert\" onclick=\"convertToInteractive('df-e0bc4f2e-ee9b-4d36-abab-060be5a62cef')\"\n",
              "            title=\"Convert this dataframe to an interactive table.\"\n",
              "            style=\"display:none;\">\n",
              "\n",
              "  <svg xmlns=\"http://www.w3.org/2000/svg\" height=\"24px\" viewBox=\"0 -960 960 960\">\n",
              "    <path d=\"M120-120v-720h720v720H120Zm60-500h600v-160H180v160Zm220 220h160v-160H400v160Zm0 220h160v-160H400v160ZM180-400h160v-160H180v160Zm440 0h160v-160H620v160ZM180-180h160v-160H180v160Zm440 0h160v-160H620v160Z\"/>\n",
              "  </svg>\n",
              "    </button>\n",
              "\n",
              "  <style>\n",
              "    .colab-df-container {\n",
              "      display:flex;\n",
              "      gap: 12px;\n",
              "    }\n",
              "\n",
              "    .colab-df-convert {\n",
              "      background-color: #E8F0FE;\n",
              "      border: none;\n",
              "      border-radius: 50%;\n",
              "      cursor: pointer;\n",
              "      display: none;\n",
              "      fill: #1967D2;\n",
              "      height: 32px;\n",
              "      padding: 0 0 0 0;\n",
              "      width: 32px;\n",
              "    }\n",
              "\n",
              "    .colab-df-convert:hover {\n",
              "      background-color: #E2EBFA;\n",
              "      box-shadow: 0px 1px 2px rgba(60, 64, 67, 0.3), 0px 1px 3px 1px rgba(60, 64, 67, 0.15);\n",
              "      fill: #174EA6;\n",
              "    }\n",
              "\n",
              "    .colab-df-buttons div {\n",
              "      margin-bottom: 4px;\n",
              "    }\n",
              "\n",
              "    [theme=dark] .colab-df-convert {\n",
              "      background-color: #3B4455;\n",
              "      fill: #D2E3FC;\n",
              "    }\n",
              "\n",
              "    [theme=dark] .colab-df-convert:hover {\n",
              "      background-color: #434B5C;\n",
              "      box-shadow: 0px 1px 3px 1px rgba(0, 0, 0, 0.15);\n",
              "      filter: drop-shadow(0px 1px 2px rgba(0, 0, 0, 0.3));\n",
              "      fill: #FFFFFF;\n",
              "    }\n",
              "  </style>\n",
              "\n",
              "    <script>\n",
              "      const buttonEl =\n",
              "        document.querySelector('#df-e0bc4f2e-ee9b-4d36-abab-060be5a62cef button.colab-df-convert');\n",
              "      buttonEl.style.display =\n",
              "        google.colab.kernel.accessAllowed ? 'block' : 'none';\n",
              "\n",
              "      async function convertToInteractive(key) {\n",
              "        const element = document.querySelector('#df-e0bc4f2e-ee9b-4d36-abab-060be5a62cef');\n",
              "        const dataTable =\n",
              "          await google.colab.kernel.invokeFunction('convertToInteractive',\n",
              "                                                    [key], {});\n",
              "        if (!dataTable) return;\n",
              "\n",
              "        const docLinkHtml = 'Like what you see? Visit the ' +\n",
              "          '<a target=\"_blank\" href=https://colab.research.google.com/notebooks/data_table.ipynb>data table notebook</a>'\n",
              "          + ' to learn more about interactive tables.';\n",
              "        element.innerHTML = '';\n",
              "        dataTable['output_type'] = 'display_data';\n",
              "        await google.colab.output.renderOutput(dataTable, element);\n",
              "        const docLink = document.createElement('div');\n",
              "        docLink.innerHTML = docLinkHtml;\n",
              "        element.appendChild(docLink);\n",
              "      }\n",
              "    </script>\n",
              "  </div>\n",
              "\n",
              "\n",
              "    <div id=\"df-4be8c242-49a4-469d-bd2b-c7ab90b50c08\">\n",
              "      <button class=\"colab-df-quickchart\" onclick=\"quickchart('df-4be8c242-49a4-469d-bd2b-c7ab90b50c08')\"\n",
              "                title=\"Suggest charts\"\n",
              "                style=\"display:none;\">\n",
              "\n",
              "<svg xmlns=\"http://www.w3.org/2000/svg\" height=\"24px\"viewBox=\"0 0 24 24\"\n",
              "     width=\"24px\">\n",
              "    <g>\n",
              "        <path d=\"M19 3H5c-1.1 0-2 .9-2 2v14c0 1.1.9 2 2 2h14c1.1 0 2-.9 2-2V5c0-1.1-.9-2-2-2zM9 17H7v-7h2v7zm4 0h-2V7h2v10zm4 0h-2v-4h2v4z\"/>\n",
              "    </g>\n",
              "</svg>\n",
              "      </button>\n",
              "\n",
              "<style>\n",
              "  .colab-df-quickchart {\n",
              "      --bg-color: #E8F0FE;\n",
              "      --fill-color: #1967D2;\n",
              "      --hover-bg-color: #E2EBFA;\n",
              "      --hover-fill-color: #174EA6;\n",
              "      --disabled-fill-color: #AAA;\n",
              "      --disabled-bg-color: #DDD;\n",
              "  }\n",
              "\n",
              "  [theme=dark] .colab-df-quickchart {\n",
              "      --bg-color: #3B4455;\n",
              "      --fill-color: #D2E3FC;\n",
              "      --hover-bg-color: #434B5C;\n",
              "      --hover-fill-color: #FFFFFF;\n",
              "      --disabled-bg-color: #3B4455;\n",
              "      --disabled-fill-color: #666;\n",
              "  }\n",
              "\n",
              "  .colab-df-quickchart {\n",
              "    background-color: var(--bg-color);\n",
              "    border: none;\n",
              "    border-radius: 50%;\n",
              "    cursor: pointer;\n",
              "    display: none;\n",
              "    fill: var(--fill-color);\n",
              "    height: 32px;\n",
              "    padding: 0;\n",
              "    width: 32px;\n",
              "  }\n",
              "\n",
              "  .colab-df-quickchart:hover {\n",
              "    background-color: var(--hover-bg-color);\n",
              "    box-shadow: 0 1px 2px rgba(60, 64, 67, 0.3), 0 1px 3px 1px rgba(60, 64, 67, 0.15);\n",
              "    fill: var(--button-hover-fill-color);\n",
              "  }\n",
              "\n",
              "  .colab-df-quickchart-complete:disabled,\n",
              "  .colab-df-quickchart-complete:disabled:hover {\n",
              "    background-color: var(--disabled-bg-color);\n",
              "    fill: var(--disabled-fill-color);\n",
              "    box-shadow: none;\n",
              "  }\n",
              "\n",
              "  .colab-df-spinner {\n",
              "    border: 2px solid var(--fill-color);\n",
              "    border-color: transparent;\n",
              "    border-bottom-color: var(--fill-color);\n",
              "    animation:\n",
              "      spin 1s steps(1) infinite;\n",
              "  }\n",
              "\n",
              "  @keyframes spin {\n",
              "    0% {\n",
              "      border-color: transparent;\n",
              "      border-bottom-color: var(--fill-color);\n",
              "      border-left-color: var(--fill-color);\n",
              "    }\n",
              "    20% {\n",
              "      border-color: transparent;\n",
              "      border-left-color: var(--fill-color);\n",
              "      border-top-color: var(--fill-color);\n",
              "    }\n",
              "    30% {\n",
              "      border-color: transparent;\n",
              "      border-left-color: var(--fill-color);\n",
              "      border-top-color: var(--fill-color);\n",
              "      border-right-color: var(--fill-color);\n",
              "    }\n",
              "    40% {\n",
              "      border-color: transparent;\n",
              "      border-right-color: var(--fill-color);\n",
              "      border-top-color: var(--fill-color);\n",
              "    }\n",
              "    60% {\n",
              "      border-color: transparent;\n",
              "      border-right-color: var(--fill-color);\n",
              "    }\n",
              "    80% {\n",
              "      border-color: transparent;\n",
              "      border-right-color: var(--fill-color);\n",
              "      border-bottom-color: var(--fill-color);\n",
              "    }\n",
              "    90% {\n",
              "      border-color: transparent;\n",
              "      border-bottom-color: var(--fill-color);\n",
              "    }\n",
              "  }\n",
              "</style>\n",
              "\n",
              "      <script>\n",
              "        async function quickchart(key) {\n",
              "          const quickchartButtonEl =\n",
              "            document.querySelector('#' + key + ' button');\n",
              "          quickchartButtonEl.disabled = true;  // To prevent multiple clicks.\n",
              "          quickchartButtonEl.classList.add('colab-df-spinner');\n",
              "          try {\n",
              "            const charts = await google.colab.kernel.invokeFunction(\n",
              "                'suggestCharts', [key], {});\n",
              "          } catch (error) {\n",
              "            console.error('Error during call to suggestCharts:', error);\n",
              "          }\n",
              "          quickchartButtonEl.classList.remove('colab-df-spinner');\n",
              "          quickchartButtonEl.classList.add('colab-df-quickchart-complete');\n",
              "        }\n",
              "        (() => {\n",
              "          let quickchartButtonEl =\n",
              "            document.querySelector('#df-4be8c242-49a4-469d-bd2b-c7ab90b50c08 button');\n",
              "          quickchartButtonEl.style.display =\n",
              "            google.colab.kernel.accessAllowed ? 'block' : 'none';\n",
              "        })();\n",
              "      </script>\n",
              "    </div>\n",
              "\n",
              "    </div>\n",
              "  </div>\n"
            ],
            "text/plain": [
              "                                             Article  \\\n",
              "0  Sally Forrest, an actress-dancer who graced th...   \n",
              "1  A middle-school teacher in China has inked hun...   \n",
              "2  A man convicted of killing the father and sist...   \n",
              "3  Avid rugby fan Prince Harry could barely watch...   \n",
              "4  A Triple M Radio producer has been inundated w...   \n",
              "\n",
              "                                             Summary  \n",
              "0  Sally Forrest, an actress-dancer who graced th...  \n",
              "1  Works include pictures of Presidential Palace ...  \n",
              "2  Iftekhar Murtaza, 29, was convicted a year ago...  \n",
              "3  Prince Harry in attendance for England's crunc...  \n",
              "4  Nick Slater's colleagues uploaded a picture to...  "
            ]
          },
          "execution_count": 26,
          "metadata": {},
          "output_type": "execute_result"
        }
      ],
      "source": [
        "data=data.drop(columns='id')\n",
        "# Rename the column 'highlights'\n",
        "data.rename(columns={'highlights': 'Summary','article':'Article'}, inplace=True)\n",
        "data.head()"
      ]
    },
    {
      "cell_type": "code",
      "execution_count": null,
      "metadata": {
        "colab": {
          "base_uri": "https://localhost:8080/"
        },
        "id": "LAf5tC4z3vZn",
        "outputId": "96500b9d-bd50-44d3-ed2b-8f79dd812153"
      },
      "outputs": [
        {
          "name": "stdout",
          "output_type": "stream",
          "text": [
            "Processing Done. 🎉🎉🎉\n"
          ]
        }
      ],
      "source": [
        "# Define a text cleaning function\n",
        "def clean_text(text):\n",
        "    if pd.isnull(text):\n",
        "        return \"\"\n",
        "\n",
        "    text = text.lower()  # Convert to lowercase\n",
        "    text = re.sub(r'<.*?>', '', text)  # Remove HTML tags\n",
        "\n",
        "    # Optionally keep digits and basic punctuation (e.g., .,!?)\n",
        "    text = re.sub(r'[^a-z0-9\\s\\.\\,\\!\\?]', '', text)\n",
        "\n",
        "    # Normalize spaces (remove multiple spaces)\n",
        "    text = re.sub(r'\\s+', ' ', text).strip()\n",
        "\n",
        "    return text\n",
        "\n",
        "# Apply the preprocessing function to the Article and Summary columns\n",
        "data['clean_Article'] = data['Article'].apply(clean_text)\n",
        "data['clean_summary'] = data['Summary'].apply(clean_text)\n",
        "\n",
        "print('Processing Done. 🎉🎉🎉')"
      ]
    },
    {
      "cell_type": "code",
      "execution_count": null,
      "metadata": {
        "colab": {
          "base_uri": "https://localhost:8080/",
          "height": 206
        },
        "id": "0hIXaR_OFThf",
        "outputId": "da228eed-2d85-41f9-cf92-7ef722dde648"
      },
      "outputs": [
        {
          "data": {
            "application/vnd.google.colaboratory.intrinsic+json": {
              "summary": "{\n  \"name\": \"data\",\n  \"rows\": 10000,\n  \"fields\": [\n    {\n      \"column\": \"Article\",\n      \"properties\": {\n        \"dtype\": \"string\",\n        \"num_unique_values\": 10000,\n        \"samples\": [\n          \"Real Madrid's 4-3 loss to Schalke  has prompted further calls for change in the Spanish capital. They progressed to the quarter-finals of the Champions League thanks to a 2-0 win in the first leg, but Tuesday night was supposed to be easy. On Sunday, their place at the top of La Liga was swiped from underneath them, and 92% of fans have demanded a change in tactical approach, according to a recent poll in\\u00a0AS. Most players have been criticised - Cristiano Ronaldo included - but perhaps most under-fire is Iker Casillas. Mr Real Madrid, with over 500 appearances. Real Madrid goalkeeper Iker Casillas has come under heavy scrutiny after a series of poor performances . Manchester United goalkeeper David De Gea has been touted as the perfect replacement at Real Madrid . Three of Schalke's four goals could have been saved, they said. Casillas needs to leave, they said. At 33 years of age, he may well be past his best, with three European Cups, five league titles and one World Cup tucked safely under his belt. Manchester United's David De Gea has been touted as his possible replacement, and even\\u00a0Sportsmail's Jamie Carragher waded into the debate on Tuesday night. 'Madrid need a new keeper. De Gea wants to win trophies. No brainer,' he wrote on Twitter. De Gea was labelled the best goalkeeper in the world by Roy Keane this week, and may leave United . Keylor Navas is also waiting for his chance at the Bernabeu after joining in the summer . And perhaps he has a point. Manchester United have fallen short of expectations once more, and De Gea will be keen to taste success... where better than the city he was born? He is a Spain international, and certainly talented enough to take the reins from his countryman. But you get the feeling that Real Madrid would not be the same without Casillas. Since 1999, he has been a main-stay at the Bernabeu. At the end of the game on Tuesday night, there was an endearing moment in which he refused to let his team-mates leave the pitch before thanking the Madrid fans. Casillas would not let his team-mates leave the pitch on Tuesday night before they thanked the supporters . Cristiano Ronaldo was unhappy at his side's performance, but was made to applaud the fans by Casillas . Pointing and pulling, ushering his team-mates to the corners of the pitch to applaud the supporters. But still they want rid. For the first goal, he palmed the ball into his bottom corner. For the second, he pushed it into the path of Klaas-Jan Huntelaar. For the third, he was rooted to the spot. Success is in Madrid's nature, and their fans aren't happy with the amount of goals they are conceding. That starts at the back... with Casillas. Aside from De Gea's potential arrival, you can't forget the presence of Keylor Navas. Signed from Levante in the summer, he is waiting, willing, wishing for his chance. De Gea is a Spain international and grew up in Madrid, playing for Atletico before moving to Man United . Casillas has had a remarkable career, winning numerous trophies including the 2010 World Cup . But De Gea makes sense. He is 24 years old, and getting better with every game he plays. Signed by Sir Alex Ferguson for just shy of \\u00a319million in 2011, United would make a tidy profit on him if he were to leave. 'I think David De Gea is the best goalkeeper in the world at the moment,' Roy Keane told ITV after Monday night's FA Cup clash with Arsenal. The best goalkeeper in the world to one of the best football clubs in the world. Maybe Jamie Carragher has called it right again.\",\n          \"With their adorable big round eyes and fluffy white fur, these baby seals are cute enough to melt any heart. The harp seals, aged between two and 10-days-old, roll around in the snow and explore their new surroundings. The adorable scene was captured in the Gulf of St Lawrence, Canada, by Belgian photographer Ellen Cuylaerts. Snow cute: With their adorable big round eyes and fluffy white fur, these baby seals are cute enough to melt any heart . Brrrilliant: The harp seals, aged between two and 10-days-old, roll around in the snow and explore their new surroundings . Heart-warming: The images were taken by\\u00a0in the Gulf of St Lawrence, Canada, by Belgian photographer Ellen Cuylaerts . The 44-year-old spent three days with the seals when she visited a breeding site earlier this month. Cuylaerts, of Grand Cayman, Cayman Islands, says: 'It's truly beautiful to watch the little ones get all cosy on the ice. 'They shuffle around, rest, and start squealing when feeding time comes and they're hungry. 'To be there, in the middle of their habitat, was a really great experience. 'The pups basically fill their days with sleeping, eating and getting fat. They spend their first 12 days feeding on very high fat milk from their mothers.' Photographer Ellen Cuylaerts said: 'It's truly beautiful to watch the little ones get all cosy on the ice' 'The pups basically fill their days with sleeping, eating and getting fat,' said Cuylaerts . Cuylaerts, who visited the seals with her husband Michael, watched as the newborns' coats lost there yellow hue and turned completely white . Cuylaerts said that the biggest threat against the seal population is humans . Having gained the trust of the seals, Cuylaerts was able to get within one metre of the pups by lying flat on her stomach and shuffling slowly towards them. Cuylaerts, who visited the seals with her husband Michael, watched as the newborns' coats lost there yellow hue and turned completely white and fluffy over the course of two days. The fur of the harp seal, a species native to the northernmost Atlantic Ocean and parts of the Arctic Ocean, is a highly valued commodity, and animal rights groups continue to campaign against hunters who target seals. Hunted: The fur of the harp seal, a species native to the northernmost Atlantic Ocean and parts of the Arctic Ocean, is a highly valued commodity . Cuylaerts was able to get within one metre of the pups by lying flat on her stomach and shuffling slowly towards them . Animal rights groups continue to campaign against hunters who target seals . Loll: The seals love resting on their backs in their icy home . Bliss: This seal looks totally content as it basks in the sun . Adorable: This seal fixes Cuylaerts with its big brown eyes . Cuylaerts says: 'For the harp seal, the biggest threat against their population is humans as the clubbing of seals is still happening. 'When the pups are aged between one and twelve-days old, they cannot be killed but, after the seal's fur starts to molt, the hunt is on. 'The seals are defenceless, not able to swim away or get away! It is cruel and unnecessary.'\",\n          \"Every child dreams of living in a magical land, complete with dragons and castles, as well as their favorite fairytale characters. And now those childhood dreams could become a reality - at the bargain price of just $2.7million (\\u00a31.74million). The Enchanted Forest, in British Columbia, not only boasts 38.1 acres of beautiful woodland, but also a host of colorful characters to keep its new owners company - from Captain Hook and Snow White, to Humpty Dumpty and the Pied Piper. Magic: The Enchanted Forest theme park in Calgary, British Columbia, is on sale for a bargain $2.7million . Attraction: Up to 1,000 visitors a day are said the flock to the park - which was lovingly created over 10 years more than 70 years ago . Neighbors: The forest has been filled with a host of magical characters to keep the new owner company during the quieter periods . Properties: It also boasts a host of different homes for the new owner to explore - including this one, the home of the Three Bears . The new owner will also get their pick of the properties, from the Three Bears' cozy cottage, to their very own castle - although they may have to watch out for the dragon peeking over the battlements. They'll also be the proud holder of British Columbia's tallest treehouse, which soars 50 feet into the sky. And if it is peace and quiet they seek, they can certainly find plenty of that in the forest: the nearest major town is Calgary, 275 miles away. However, if magic isn't quite your cup of tea, \\u00a0the property also boasts a high-rope assault course, mile-long nature trail and lake. Record breaking: The park also has the tallest treehouse in the whole of British Columbia, soaring 50 feet into the sky . Hard work: The figurines dotted around the forest were lovingly created by the park's first owner, Doris Needham . Enchanting: Doris was an artist in the 1950s who wanted the perfect space to place the figurines - and settled on the forest . For sale: It was bought in 1990 by Rocky and Juliet Ehlers, who have now decided it is time to retire . Continue: But Rocky has said he very much hopes the new owners will continue to run the much-loved park as a tourist attraction . The Enchanted Forest was opened as a theme park in the 1960s after 10 years of hard work by Doris and Ernest Needham, who lived in their very own Candy Cane House. Indeed, it was Doris' own artistic talent which helped create the 350 figurines scattered about the neighborhood. She searched for the perfect location for her unusual figurines for two years, before settling on this space in the Cedar Mountains. Since 1990, however, the popular attraction has been owned by\\u00a0Rocky and Juliet Ehlers. The couple, having lovingly run the forest as a theme park for 25 years, have now decided to hang up their ruby slippers for good, and enjoy a quieter retirement. Interest: There is already a lot of interest in buying the property - with inquiries flooding in from all over the world . Bargain: The theme park is far cheaper than Michael Jackson's Neverland, which was expected to fetch $85million last year . Bright: It is also a bargain when compared to the cost of flats in some of the most expensive cities in the world . Rocky, 69, told the Revelstoke Times Review: \\u00a0'It's been very enjoyable years and it's time we move on.' He remains hopeful whoever buys the Enchanted Forest - which can still attract up to 1,000 visitors a day - will keep running it as a theme park. Estate agent Steve Daschuk said: 'This is such a magical property. So far we've had interest from all over Canada and internationally. 'We've even had people get in touch from China, enquiring about the forest.' And that is perhaps not surprising: the theme park's asking price is a snip of that sought for Michael Jackson's Neverland, which was expected to get as much as $85million when it went on sale last year. It is also just a million dollars more than the average flat price in Manhattan, the same price as a two-bedroom flat in central London and Hong Kong. Dragons: Estate agent\\u00a0Steve Daschuk described it as 'such a magical property', and said people from China had expressed interest . Remote: The nearest large town is Calgary - which is 275 miles away from the Enchanted Forest .\"\n        ],\n        \"semantic_type\": \"\",\n        \"description\": \"\"\n      }\n    },\n    {\n      \"column\": \"Summary\",\n      \"properties\": {\n        \"dtype\": \"string\",\n        \"num_unique_values\": 9962,\n        \"samples\": [\n          \"Ireland's iconic captain Paul O'Connell wins his 100th cap against Wales .\\nA lot has changed since the Munster man made his debut in 2002 .\\nBut Wales\\u00a0scrum-half Rhys Webb has plan to ruin the big day .\\nWebb says he did not agree with way England approached Ireland game .\",\n          \"Labour launched poster claiming the NHS faced a 'Tory cuts plan'\\nThe advert featured an x-ray showing a broken leg of a suspected toddler .\\nMedical experts say it also shows other older injuries to leg and ankle .\\nAppears 'very likely non-accidental injury' and could be result of abuse .\",\n          \"John Watson,  former McLaren driver, was alarmed by race in Melbourne .\\nHe believes the FIA and CVC need to sit down and\\u00a0discuss\\u00a0direction\\u00a0of F1 .\\nOnly 15 cars started the season-opening Australian Grand Prix .\\nWatson fears fans and sponsors are turned off by Mercedes domination .\\nBut he expects McLaren and Honda to recover from difficult starts .\"\n        ],\n        \"semantic_type\": \"\",\n        \"description\": \"\"\n      }\n    },\n    {\n      \"column\": \"clean_Article\",\n      \"properties\": {\n        \"dtype\": \"string\",\n        \"num_unique_values\": 10000,\n        \"samples\": [\n          \"real madrids 43 loss to schalke has prompted further calls for change in the spanish capital. they progressed to the quarterfinals of the champions league thanks to a 20 win in the first leg, but tuesday night was supposed to be easy. on sunday, their place at the top of la liga was swiped from underneath them, and 92 of fans have demanded a change in tactical approach, according to a recent poll in as. most players have been criticised cristiano ronaldo included but perhaps most underfire is iker casillas. mr real madrid, with over 500 appearances. real madrid goalkeeper iker casillas has come under heavy scrutiny after a series of poor performances . manchester united goalkeeper david de gea has been touted as the perfect replacement at real madrid . three of schalkes four goals could have been saved, they said. casillas needs to leave, they said. at 33 years of age, he may well be past his best, with three european cups, five league titles and one world cup tucked safely under his belt. manchester uniteds david de gea has been touted as his possible replacement, and even sportsmails jamie carragher waded into the debate on tuesday night. madrid need a new keeper. de gea wants to win trophies. no brainer, he wrote on twitter. de gea was labelled the best goalkeeper in the world by roy keane this week, and may leave united . keylor navas is also waiting for his chance at the bernabeu after joining in the summer . and perhaps he has a point. manchester united have fallen short of expectations once more, and de gea will be keen to taste success... where better than the city he was born? he is a spain international, and certainly talented enough to take the reins from his countryman. but you get the feeling that real madrid would not be the same without casillas. since 1999, he has been a mainstay at the bernabeu. at the end of the game on tuesday night, there was an endearing moment in which he refused to let his teammates leave the pitch before thanking the madrid fans. casillas would not let his teammates leave the pitch on tuesday night before they thanked the supporters . cristiano ronaldo was unhappy at his sides performance, but was made to applaud the fans by casillas . pointing and pulling, ushering his teammates to the corners of the pitch to applaud the supporters. but still they want rid. for the first goal, he palmed the ball into his bottom corner. for the second, he pushed it into the path of klaasjan huntelaar. for the third, he was rooted to the spot. success is in madrids nature, and their fans arent happy with the amount of goals they are conceding. that starts at the back... with casillas. aside from de geas potential arrival, you cant forget the presence of keylor navas. signed from levante in the summer, he is waiting, willing, wishing for his chance. de gea is a spain international and grew up in madrid, playing for atletico before moving to man united . casillas has had a remarkable career, winning numerous trophies including the 2010 world cup . but de gea makes sense. he is 24 years old, and getting better with every game he plays. signed by sir alex ferguson for just shy of 19million in 2011, united would make a tidy profit on him if he were to leave. i think david de gea is the best goalkeeper in the world at the moment, roy keane told itv after monday nights fa cup clash with arsenal. the best goalkeeper in the world to one of the best football clubs in the world. maybe jamie carragher has called it right again.\",\n          \"with their adorable big round eyes and fluffy white fur, these baby seals are cute enough to melt any heart. the harp seals, aged between two and 10daysold, roll around in the snow and explore their new surroundings. the adorable scene was captured in the gulf of st lawrence, canada, by belgian photographer ellen cuylaerts. snow cute with their adorable big round eyes and fluffy white fur, these baby seals are cute enough to melt any heart . brrrilliant the harp seals, aged between two and 10daysold, roll around in the snow and explore their new surroundings . heartwarming the images were taken by in the gulf of st lawrence, canada, by belgian photographer ellen cuylaerts . the 44yearold spent three days with the seals when she visited a breeding site earlier this month. cuylaerts, of grand cayman, cayman islands, says its truly beautiful to watch the little ones get all cosy on the ice. they shuffle around, rest, and start squealing when feeding time comes and theyre hungry. to be there, in the middle of their habitat, was a really great experience. the pups basically fill their days with sleeping, eating and getting fat. they spend their first 12 days feeding on very high fat milk from their mothers. photographer ellen cuylaerts said its truly beautiful to watch the little ones get all cosy on the ice the pups basically fill their days with sleeping, eating and getting fat, said cuylaerts . cuylaerts, who visited the seals with her husband michael, watched as the newborns coats lost there yellow hue and turned completely white . cuylaerts said that the biggest threat against the seal population is humans . having gained the trust of the seals, cuylaerts was able to get within one metre of the pups by lying flat on her stomach and shuffling slowly towards them. cuylaerts, who visited the seals with her husband michael, watched as the newborns coats lost there yellow hue and turned completely white and fluffy over the course of two days. the fur of the harp seal, a species native to the northernmost atlantic ocean and parts of the arctic ocean, is a highly valued commodity, and animal rights groups continue to campaign against hunters who target seals. hunted the fur of the harp seal, a species native to the northernmost atlantic ocean and parts of the arctic ocean, is a highly valued commodity . cuylaerts was able to get within one metre of the pups by lying flat on her stomach and shuffling slowly towards them . animal rights groups continue to campaign against hunters who target seals . loll the seals love resting on their backs in their icy home . bliss this seal looks totally content as it basks in the sun . adorable this seal fixes cuylaerts with its big brown eyes . cuylaerts says for the harp seal, the biggest threat against their population is humans as the clubbing of seals is still happening. when the pups are aged between one and twelvedays old, they cannot be killed but, after the seals fur starts to molt, the hunt is on. the seals are defenceless, not able to swim away or get away! it is cruel and unnecessary.\",\n          \"every child dreams of living in a magical land, complete with dragons and castles, as well as their favorite fairytale characters. and now those childhood dreams could become a reality at the bargain price of just 2.7million 1.74million. the enchanted forest, in british columbia, not only boasts 38.1 acres of beautiful woodland, but also a host of colorful characters to keep its new owners company from captain hook and snow white, to humpty dumpty and the pied piper. magic the enchanted forest theme park in calgary, british columbia, is on sale for a bargain 2.7million . attraction up to 1,000 visitors a day are said the flock to the park which was lovingly created over 10 years more than 70 years ago . neighbors the forest has been filled with a host of magical characters to keep the new owner company during the quieter periods . properties it also boasts a host of different homes for the new owner to explore including this one, the home of the three bears . the new owner will also get their pick of the properties, from the three bears cozy cottage, to their very own castle although they may have to watch out for the dragon peeking over the battlements. theyll also be the proud holder of british columbias tallest treehouse, which soars 50 feet into the sky. and if it is peace and quiet they seek, they can certainly find plenty of that in the forest the nearest major town is calgary, 275 miles away. however, if magic isnt quite your cup of tea, the property also boasts a highrope assault course, milelong nature trail and lake. record breaking the park also has the tallest treehouse in the whole of british columbia, soaring 50 feet into the sky . hard work the figurines dotted around the forest were lovingly created by the parks first owner, doris needham . enchanting doris was an artist in the 1950s who wanted the perfect space to place the figurines and settled on the forest . for sale it was bought in 1990 by rocky and juliet ehlers, who have now decided it is time to retire . continue but rocky has said he very much hopes the new owners will continue to run the muchloved park as a tourist attraction . the enchanted forest was opened as a theme park in the 1960s after 10 years of hard work by doris and ernest needham, who lived in their very own candy cane house. indeed, it was doris own artistic talent which helped create the 350 figurines scattered about the neighborhood. she searched for the perfect location for her unusual figurines for two years, before settling on this space in the cedar mountains. since 1990, however, the popular attraction has been owned by rocky and juliet ehlers. the couple, having lovingly run the forest as a theme park for 25 years, have now decided to hang up their ruby slippers for good, and enjoy a quieter retirement. interest there is already a lot of interest in buying the property with inquiries flooding in from all over the world . bargain the theme park is far cheaper than michael jacksons neverland, which was expected to fetch 85million last year . bright it is also a bargain when compared to the cost of flats in some of the most expensive cities in the world . rocky, 69, told the revelstoke times review its been very enjoyable years and its time we move on. he remains hopeful whoever buys the enchanted forest which can still attract up to 1,000 visitors a day will keep running it as a theme park. estate agent steve daschuk said this is such a magical property. so far weve had interest from all over canada and internationally. weve even had people get in touch from china, enquiring about the forest. and that is perhaps not surprising the theme parks asking price is a snip of that sought for michael jacksons neverland, which was expected to get as much as 85million when it went on sale last year. it is also just a million dollars more than the average flat price in manhattan, the same price as a twobedroom flat in central london and hong kong. dragons estate agent steve daschuk described it as such a magical property, and said people from china had expressed interest . remote the nearest large town is calgary which is 275 miles away from the enchanted forest .\"\n        ],\n        \"semantic_type\": \"\",\n        \"description\": \"\"\n      }\n    },\n    {\n      \"column\": \"clean_summary\",\n      \"properties\": {\n        \"dtype\": \"string\",\n        \"num_unique_values\": 9961,\n        \"samples\": [\n          \"the inner city sydney apartment where lisa harnum plunged to her death in july 2011 failed to sell at auction . simon gittany was found guilty of murder after throwing his fiance over the edge of the balcony at his unit . the property was expected to fetch more than 2 million at auction on tuesday night and recieved plenty of interest . the website did not point out that the crime took place in the unit but offered the balcony as a key selling point . however, the contract did point out the vendor discloses a criminal homicide occurred from the balcony of the property in july 2011 when a previous tenant occupied the property\",\n          \"richard ford was the youngest half brother of gerald ford . he died in grand rapids, michigan, on friday, aged 90 . an avid golfer who was relatively quiet, he ran the family paint business . he was was one of the pallbearers at the 2006 funeral of gerald ford .\",\n          \"gareth bale can have as big an impact as eric cantona, says paul scholes . bale has been linked with a move away from real madrid recently . the wales international has been criticised by fans and spanish media . scholes he would be loved at old trafford. in return i believe he could turn louis van gaals team into serious title contenders next season read bale wont quit madrid this summer despite premier league interest . click here for all the latest manchester united news .\"\n        ],\n        \"semantic_type\": \"\",\n        \"description\": \"\"\n      }\n    }\n  ]\n}",
              "type": "dataframe",
              "variable_name": "data"
            },
            "text/html": [
              "\n",
              "  <div id=\"df-efceff9a-27cf-4942-8fab-a1be50928a79\" class=\"colab-df-container\">\n",
              "    <div>\n",
              "<style scoped>\n",
              "    .dataframe tbody tr th:only-of-type {\n",
              "        vertical-align: middle;\n",
              "    }\n",
              "\n",
              "    .dataframe tbody tr th {\n",
              "        vertical-align: top;\n",
              "    }\n",
              "\n",
              "    .dataframe thead th {\n",
              "        text-align: right;\n",
              "    }\n",
              "</style>\n",
              "<table border=\"1\" class=\"dataframe\">\n",
              "  <thead>\n",
              "    <tr style=\"text-align: right;\">\n",
              "      <th></th>\n",
              "      <th>Article</th>\n",
              "      <th>Summary</th>\n",
              "      <th>clean_Article</th>\n",
              "      <th>clean_summary</th>\n",
              "    </tr>\n",
              "  </thead>\n",
              "  <tbody>\n",
              "    <tr>\n",
              "      <th>0</th>\n",
              "      <td>Sally Forrest, an actress-dancer who graced th...</td>\n",
              "      <td>Sally Forrest, an actress-dancer who graced th...</td>\n",
              "      <td>sally forrest, an actressdancer who graced the...</td>\n",
              "      <td>sally forrest, an actressdancer who graced the...</td>\n",
              "    </tr>\n",
              "    <tr>\n",
              "      <th>1</th>\n",
              "      <td>A middle-school teacher in China has inked hun...</td>\n",
              "      <td>Works include pictures of Presidential Palace ...</td>\n",
              "      <td>a middleschool teacher in china has inked hund...</td>\n",
              "      <td>works include pictures of presidential palace ...</td>\n",
              "    </tr>\n",
              "    <tr>\n",
              "      <th>2</th>\n",
              "      <td>A man convicted of killing the father and sist...</td>\n",
              "      <td>Iftekhar Murtaza, 29, was convicted a year ago...</td>\n",
              "      <td>a man convicted of killing the father and sist...</td>\n",
              "      <td>iftekhar murtaza, 29, was convicted a year ago...</td>\n",
              "    </tr>\n",
              "    <tr>\n",
              "      <th>3</th>\n",
              "      <td>Avid rugby fan Prince Harry could barely watch...</td>\n",
              "      <td>Prince Harry in attendance for England's crunc...</td>\n",
              "      <td>avid rugby fan prince harry could barely watch...</td>\n",
              "      <td>prince harry in attendance for englands crunch...</td>\n",
              "    </tr>\n",
              "    <tr>\n",
              "      <th>4</th>\n",
              "      <td>A Triple M Radio producer has been inundated w...</td>\n",
              "      <td>Nick Slater's colleagues uploaded a picture to...</td>\n",
              "      <td>a triple m radio producer has been inundated w...</td>\n",
              "      <td>nick slaters colleagues uploaded a picture to ...</td>\n",
              "    </tr>\n",
              "  </tbody>\n",
              "</table>\n",
              "</div>\n",
              "    <div class=\"colab-df-buttons\">\n",
              "\n",
              "  <div class=\"colab-df-container\">\n",
              "    <button class=\"colab-df-convert\" onclick=\"convertToInteractive('df-efceff9a-27cf-4942-8fab-a1be50928a79')\"\n",
              "            title=\"Convert this dataframe to an interactive table.\"\n",
              "            style=\"display:none;\">\n",
              "\n",
              "  <svg xmlns=\"http://www.w3.org/2000/svg\" height=\"24px\" viewBox=\"0 -960 960 960\">\n",
              "    <path d=\"M120-120v-720h720v720H120Zm60-500h600v-160H180v160Zm220 220h160v-160H400v160Zm0 220h160v-160H400v160ZM180-400h160v-160H180v160Zm440 0h160v-160H620v160ZM180-180h160v-160H180v160Zm440 0h160v-160H620v160Z\"/>\n",
              "  </svg>\n",
              "    </button>\n",
              "\n",
              "  <style>\n",
              "    .colab-df-container {\n",
              "      display:flex;\n",
              "      gap: 12px;\n",
              "    }\n",
              "\n",
              "    .colab-df-convert {\n",
              "      background-color: #E8F0FE;\n",
              "      border: none;\n",
              "      border-radius: 50%;\n",
              "      cursor: pointer;\n",
              "      display: none;\n",
              "      fill: #1967D2;\n",
              "      height: 32px;\n",
              "      padding: 0 0 0 0;\n",
              "      width: 32px;\n",
              "    }\n",
              "\n",
              "    .colab-df-convert:hover {\n",
              "      background-color: #E2EBFA;\n",
              "      box-shadow: 0px 1px 2px rgba(60, 64, 67, 0.3), 0px 1px 3px 1px rgba(60, 64, 67, 0.15);\n",
              "      fill: #174EA6;\n",
              "    }\n",
              "\n",
              "    .colab-df-buttons div {\n",
              "      margin-bottom: 4px;\n",
              "    }\n",
              "\n",
              "    [theme=dark] .colab-df-convert {\n",
              "      background-color: #3B4455;\n",
              "      fill: #D2E3FC;\n",
              "    }\n",
              "\n",
              "    [theme=dark] .colab-df-convert:hover {\n",
              "      background-color: #434B5C;\n",
              "      box-shadow: 0px 1px 3px 1px rgba(0, 0, 0, 0.15);\n",
              "      filter: drop-shadow(0px 1px 2px rgba(0, 0, 0, 0.3));\n",
              "      fill: #FFFFFF;\n",
              "    }\n",
              "  </style>\n",
              "\n",
              "    <script>\n",
              "      const buttonEl =\n",
              "        document.querySelector('#df-efceff9a-27cf-4942-8fab-a1be50928a79 button.colab-df-convert');\n",
              "      buttonEl.style.display =\n",
              "        google.colab.kernel.accessAllowed ? 'block' : 'none';\n",
              "\n",
              "      async function convertToInteractive(key) {\n",
              "        const element = document.querySelector('#df-efceff9a-27cf-4942-8fab-a1be50928a79');\n",
              "        const dataTable =\n",
              "          await google.colab.kernel.invokeFunction('convertToInteractive',\n",
              "                                                    [key], {});\n",
              "        if (!dataTable) return;\n",
              "\n",
              "        const docLinkHtml = 'Like what you see? Visit the ' +\n",
              "          '<a target=\"_blank\" href=https://colab.research.google.com/notebooks/data_table.ipynb>data table notebook</a>'\n",
              "          + ' to learn more about interactive tables.';\n",
              "        element.innerHTML = '';\n",
              "        dataTable['output_type'] = 'display_data';\n",
              "        await google.colab.output.renderOutput(dataTable, element);\n",
              "        const docLink = document.createElement('div');\n",
              "        docLink.innerHTML = docLinkHtml;\n",
              "        element.appendChild(docLink);\n",
              "      }\n",
              "    </script>\n",
              "  </div>\n",
              "\n",
              "\n",
              "    <div id=\"df-acca44b1-cc7c-477c-9a1b-7d0f2d77ae1d\">\n",
              "      <button class=\"colab-df-quickchart\" onclick=\"quickchart('df-acca44b1-cc7c-477c-9a1b-7d0f2d77ae1d')\"\n",
              "                title=\"Suggest charts\"\n",
              "                style=\"display:none;\">\n",
              "\n",
              "<svg xmlns=\"http://www.w3.org/2000/svg\" height=\"24px\"viewBox=\"0 0 24 24\"\n",
              "     width=\"24px\">\n",
              "    <g>\n",
              "        <path d=\"M19 3H5c-1.1 0-2 .9-2 2v14c0 1.1.9 2 2 2h14c1.1 0 2-.9 2-2V5c0-1.1-.9-2-2-2zM9 17H7v-7h2v7zm4 0h-2V7h2v10zm4 0h-2v-4h2v4z\"/>\n",
              "    </g>\n",
              "</svg>\n",
              "      </button>\n",
              "\n",
              "<style>\n",
              "  .colab-df-quickchart {\n",
              "      --bg-color: #E8F0FE;\n",
              "      --fill-color: #1967D2;\n",
              "      --hover-bg-color: #E2EBFA;\n",
              "      --hover-fill-color: #174EA6;\n",
              "      --disabled-fill-color: #AAA;\n",
              "      --disabled-bg-color: #DDD;\n",
              "  }\n",
              "\n",
              "  [theme=dark] .colab-df-quickchart {\n",
              "      --bg-color: #3B4455;\n",
              "      --fill-color: #D2E3FC;\n",
              "      --hover-bg-color: #434B5C;\n",
              "      --hover-fill-color: #FFFFFF;\n",
              "      --disabled-bg-color: #3B4455;\n",
              "      --disabled-fill-color: #666;\n",
              "  }\n",
              "\n",
              "  .colab-df-quickchart {\n",
              "    background-color: var(--bg-color);\n",
              "    border: none;\n",
              "    border-radius: 50%;\n",
              "    cursor: pointer;\n",
              "    display: none;\n",
              "    fill: var(--fill-color);\n",
              "    height: 32px;\n",
              "    padding: 0;\n",
              "    width: 32px;\n",
              "  }\n",
              "\n",
              "  .colab-df-quickchart:hover {\n",
              "    background-color: var(--hover-bg-color);\n",
              "    box-shadow: 0 1px 2px rgba(60, 64, 67, 0.3), 0 1px 3px 1px rgba(60, 64, 67, 0.15);\n",
              "    fill: var(--button-hover-fill-color);\n",
              "  }\n",
              "\n",
              "  .colab-df-quickchart-complete:disabled,\n",
              "  .colab-df-quickchart-complete:disabled:hover {\n",
              "    background-color: var(--disabled-bg-color);\n",
              "    fill: var(--disabled-fill-color);\n",
              "    box-shadow: none;\n",
              "  }\n",
              "\n",
              "  .colab-df-spinner {\n",
              "    border: 2px solid var(--fill-color);\n",
              "    border-color: transparent;\n",
              "    border-bottom-color: var(--fill-color);\n",
              "    animation:\n",
              "      spin 1s steps(1) infinite;\n",
              "  }\n",
              "\n",
              "  @keyframes spin {\n",
              "    0% {\n",
              "      border-color: transparent;\n",
              "      border-bottom-color: var(--fill-color);\n",
              "      border-left-color: var(--fill-color);\n",
              "    }\n",
              "    20% {\n",
              "      border-color: transparent;\n",
              "      border-left-color: var(--fill-color);\n",
              "      border-top-color: var(--fill-color);\n",
              "    }\n",
              "    30% {\n",
              "      border-color: transparent;\n",
              "      border-left-color: var(--fill-color);\n",
              "      border-top-color: var(--fill-color);\n",
              "      border-right-color: var(--fill-color);\n",
              "    }\n",
              "    40% {\n",
              "      border-color: transparent;\n",
              "      border-right-color: var(--fill-color);\n",
              "      border-top-color: var(--fill-color);\n",
              "    }\n",
              "    60% {\n",
              "      border-color: transparent;\n",
              "      border-right-color: var(--fill-color);\n",
              "    }\n",
              "    80% {\n",
              "      border-color: transparent;\n",
              "      border-right-color: var(--fill-color);\n",
              "      border-bottom-color: var(--fill-color);\n",
              "    }\n",
              "    90% {\n",
              "      border-color: transparent;\n",
              "      border-bottom-color: var(--fill-color);\n",
              "    }\n",
              "  }\n",
              "</style>\n",
              "\n",
              "      <script>\n",
              "        async function quickchart(key) {\n",
              "          const quickchartButtonEl =\n",
              "            document.querySelector('#' + key + ' button');\n",
              "          quickchartButtonEl.disabled = true;  // To prevent multiple clicks.\n",
              "          quickchartButtonEl.classList.add('colab-df-spinner');\n",
              "          try {\n",
              "            const charts = await google.colab.kernel.invokeFunction(\n",
              "                'suggestCharts', [key], {});\n",
              "          } catch (error) {\n",
              "            console.error('Error during call to suggestCharts:', error);\n",
              "          }\n",
              "          quickchartButtonEl.classList.remove('colab-df-spinner');\n",
              "          quickchartButtonEl.classList.add('colab-df-quickchart-complete');\n",
              "        }\n",
              "        (() => {\n",
              "          let quickchartButtonEl =\n",
              "            document.querySelector('#df-acca44b1-cc7c-477c-9a1b-7d0f2d77ae1d button');\n",
              "          quickchartButtonEl.style.display =\n",
              "            google.colab.kernel.accessAllowed ? 'block' : 'none';\n",
              "        })();\n",
              "      </script>\n",
              "    </div>\n",
              "\n",
              "    </div>\n",
              "  </div>\n"
            ],
            "text/plain": [
              "                                             Article  \\\n",
              "0  Sally Forrest, an actress-dancer who graced th...   \n",
              "1  A middle-school teacher in China has inked hun...   \n",
              "2  A man convicted of killing the father and sist...   \n",
              "3  Avid rugby fan Prince Harry could barely watch...   \n",
              "4  A Triple M Radio producer has been inundated w...   \n",
              "\n",
              "                                             Summary  \\\n",
              "0  Sally Forrest, an actress-dancer who graced th...   \n",
              "1  Works include pictures of Presidential Palace ...   \n",
              "2  Iftekhar Murtaza, 29, was convicted a year ago...   \n",
              "3  Prince Harry in attendance for England's crunc...   \n",
              "4  Nick Slater's colleagues uploaded a picture to...   \n",
              "\n",
              "                                       clean_Article  \\\n",
              "0  sally forrest, an actressdancer who graced the...   \n",
              "1  a middleschool teacher in china has inked hund...   \n",
              "2  a man convicted of killing the father and sist...   \n",
              "3  avid rugby fan prince harry could barely watch...   \n",
              "4  a triple m radio producer has been inundated w...   \n",
              "\n",
              "                                       clean_summary  \n",
              "0  sally forrest, an actressdancer who graced the...  \n",
              "1  works include pictures of presidential palace ...  \n",
              "2  iftekhar murtaza, 29, was convicted a year ago...  \n",
              "3  prince harry in attendance for englands crunch...  \n",
              "4  nick slaters colleagues uploaded a picture to ...  "
            ]
          },
          "execution_count": 28,
          "metadata": {},
          "output_type": "execute_result"
        }
      ],
      "source": [
        "data.head()"
      ]
    },
    {
      "cell_type": "code",
      "execution_count": null,
      "metadata": {
        "colab": {
          "base_uri": "https://localhost:8080/"
        },
        "id": "iVPlPwKV7B2O",
        "outputId": "13240c51-7abb-4066-ad93-c64d5b45e1aa"
      },
      "outputs": [
        {
          "name": "stdout",
          "output_type": "stream",
          "text": [
            "Original Article:\n",
            " Sally Forrest, an actress-dancer who graced the silver screen throughout the '40s and '50s in MGM musicals and films such as the 1956 noir While the City Sleeps died on March 15 at her home in Beverly Hills, California. Forrest, whose birth name was Katherine Feeney, was 86 and had long battled cancer. Her publicist, Judith Goffin, announced the news Thursday. Scroll down for video . Actress: Sally Forrest was in the 1951 Ida Lupino-directed film 'Hard, Fast and Beautiful' (left) and the 1956 Fritz Lang movie 'While the City Sleeps' A San Diego native, Forrest became a protege of Hollywood trailblazer Ida Lupino, who cast her in starring roles in films including the critical and commercial success Not Wanted, Never Fear and Hard, Fast and Beautiful. Some of Forrest's other film credits included Bannerline, Son of Sinbad, and Excuse My Dust, according to her iMDB page. The page also indicates Forrest was in multiple Climax! and Rawhide television episodes. Forrest appeared as herself in an episode of The Ed Sullivan Show and three episodes of The Dinah Shore Chevy Show, her iMDB page says. She also starred in a Broadway production of The Seven Year Itch. City News Service reported that other stage credits included As You Like It, No, No, Nanette and Damn Yankees. Forrest married writer-producer Milo Frank in 1951. He died in 2004. She is survived by her niece, Sharon Durham, and nephews, Michael and Mark Feeney. Career: A San Diego native, Forrest became a protege of Hollywood trailblazer Ida Lupino, who cast her in starring roles in films .\n",
            "\n",
            "Cleaned Article:\n",
            " sally forrest, an actressdancer who graced the silver screen throughout the 40s and 50s in mgm musicals and films such as the 1956 noir while the city sleeps died on march 15 at her home in beverly hills, california. forrest, whose birth name was katherine feeney, was 86 and had long battled cancer. her publicist, judith goffin, announced the news thursday. scroll down for video . actress sally forrest was in the 1951 ida lupinodirected film hard, fast and beautiful left and the 1956 fritz lang movie while the city sleeps a san diego native, forrest became a protege of hollywood trailblazer ida lupino, who cast her in starring roles in films including the critical and commercial success not wanted, never fear and hard, fast and beautiful. some of forrests other film credits included bannerline, son of sinbad, and excuse my dust, according to her imdb page. the page also indicates forrest was in multiple climax! and rawhide television episodes. forrest appeared as herself in an episode of the ed sullivan show and three episodes of the dinah shore chevy show, her imdb page says. she also starred in a broadway production of the seven year itch. city news service reported that other stage credits included as you like it, no, no, nanette and damn yankees. forrest married writerproducer milo frank in 1951. he died in 2004. she is survived by her niece, sharon durham, and nephews, michael and mark feeney. career a san diego native, forrest became a protege of hollywood trailblazer ida lupino, who cast her in starring roles in films .\n",
            "\n",
            "Original summary:\n",
            " Sally Forrest, an actress-dancer who graced the silver screen throughout the '40s and '50s in MGM musicals and films died on March 15 .\n",
            "Forrest, whose birth name was Katherine Feeney, had long battled cancer .\n",
            "A San Diego native, Forrest became a protege of Hollywood trailblazer Ida Lupino, who cast her in starring roles in films .\n",
            "\n",
            "Cleaned summary:\n",
            " sally forrest, an actressdancer who graced the silver screen throughout the 40s and 50s in mgm musicals and films died on march 15 . forrest, whose birth name was katherine feeney, had long battled cancer . a san diego native, forrest became a protege of hollywood trailblazer ida lupino, who cast her in starring roles in films .\n"
          ]
        }
      ],
      "source": [
        "#  Show a sample\n",
        "print(\"Original Article:\\n\", data['Article'][0])\n",
        "print(\"\\nCleaned Article:\\n\", data['clean_Article'][0])\n",
        "print(\"\\nOriginal summary:\\n\", data['Summary'][0])\n",
        "print(\"\\nCleaned summary:\\n\", data['clean_summary'][0])"
      ]
    },
    {
      "cell_type": "code",
      "execution_count": null,
      "metadata": {
        "id": "RX3rIxHII2hC"
      },
      "outputs": [],
      "source": []
    },
    {
      "cell_type": "code",
      "execution_count": null,
      "metadata": {
        "colab": {
          "base_uri": "https://localhost:8080/"
        },
        "id": "3Gmk4frPI2eh",
        "outputId": "4d901a25-9374-4642-dcb5-a0971e3de715"
      },
      "outputs": [
        {
          "name": "stdout",
          "output_type": "stream",
          "text": [
            "✅ Tokenization complete.\n",
            "Input shape: torch.Size([10000, 512])\n",
            "Label shape: torch.Size([10000, 64])\n"
          ]
        }
      ],
      "source": [
        "from transformers import T5Tokenizer\n",
        "from torch.utils.data import Dataset, DataLoader, random_split\n",
        "import torch\n",
        "\n",
        "# Load T5 tokenizer\n",
        "tokenizer = T5Tokenizer.from_pretrained(\"t5-small\")\n",
        "\n",
        "# Apply \"summarize:\" prefix to the *cleaned* article, not raw\n",
        "def add_prefix(text):\n",
        "    return \"summarize: \" + text\n",
        "\n",
        "# Apply prefix to the cleaned articles\n",
        "data['clean_Article'] = data['clean_Article'].apply(add_prefix)\n",
        "\n",
        "# Tokenization function\n",
        "def tokenize_data(examples):\n",
        "    # Tokenize input (article)\n",
        "    model_inputs = tokenizer(\n",
        "        examples['clean_Article'],\n",
        "        max_length=512,\n",
        "        padding=\"max_length\",\n",
        "        truncation=True,\n",
        "        return_tensors=\"pt\",\n",
        "        return_attention_mask=True\n",
        "    )\n",
        "\n",
        "    # Tokenize target (summary)\n",
        "    labels = tokenizer(\n",
        "        examples['clean_summary'],\n",
        "        max_length=64,\n",
        "        padding=\"max_length\",\n",
        "        truncation=True,\n",
        "        return_tensors=\"pt\"\n",
        "    ).input_ids\n",
        "\n",
        "    # Replace padding token id in labels with -100 to ignore in loss\n",
        "    labels[labels == tokenizer.pad_token_id] = -100\n",
        "\n",
        "    # Add labels to the model inputs\n",
        "    model_inputs[\"labels\"] = labels\n",
        "    return model_inputs\n",
        "\n",
        "# Prepare inputs as lists\n",
        "tokenized_dataset = tokenize_data({\n",
        "    'clean_Article': data['clean_Article'].tolist(),\n",
        "    'clean_summary': data['clean_summary'].tolist()\n",
        "})\n",
        "\n",
        "print(\"✅ Tokenization complete.\")\n",
        "print(\"Input shape:\", tokenized_dataset['input_ids'].shape)\n",
        "print(\"Label shape:\", tokenized_dataset['labels'].shape)"
      ]
    },
    {
      "cell_type": "code",
      "execution_count": null,
      "metadata": {
        "id": "h_EPzX8PI2bp"
      },
      "outputs": [],
      "source": [
        "from torch.utils.data import Dataset\n",
        "\n",
        "class TextSummaryDataset(Dataset):\n",
        "    def __init__(self, input_ids, attention_mask, labels):\n",
        "        self.input_ids = input_ids\n",
        "        self.attention_mask = attention_mask\n",
        "        self.labels = labels\n",
        "\n",
        "    def __len__(self):\n",
        "        return len(self.input_ids)\n",
        "\n",
        "    def __getitem__(self, idx):\n",
        "        return {\n",
        "            'input_ids': self.input_ids[idx],\n",
        "            'attention_mask': self.attention_mask[idx],\n",
        "            'labels': self.labels[idx]\n",
        "        }\n"
      ]
    },
    {
      "cell_type": "code",
      "execution_count": null,
      "metadata": {
        "colab": {
          "base_uri": "https://localhost:8080/"
        },
        "id": "meOSBJsdI2Ym",
        "outputId": "b93ac689-2f3f-4b30-c97d-0ebbc7feb27d"
      },
      "outputs": [
        {
          "name": "stdout",
          "output_type": "stream",
          "text": [
            "✅ DataLoaders ready: 2000 train batches, 500 val batches.\n"
          ]
        }
      ],
      "source": [
        "# Create Dataset object\n",
        "dataset = TextSummaryDataset(\n",
        "    input_ids=tokenized_dataset['input_ids'],\n",
        "    attention_mask=tokenized_dataset['attention_mask'],\n",
        "    labels=tokenized_dataset['labels']\n",
        ")\n",
        "\n",
        "# Split into train and validation (80% / 20%)\n",
        "train_size = int(0.8 * len(dataset))\n",
        "val_size = len(dataset) - train_size\n",
        "train_dataset, val_dataset = random_split(dataset, [train_size, val_size])\n",
        "\n",
        "# Create DataLoaders\n",
        "train_loader = DataLoader(train_dataset, batch_size=4, shuffle=True, drop_last=True)\n",
        "val_loader = DataLoader(val_dataset, batch_size=4)\n",
        "\n",
        "print(f\"✅ DataLoaders ready: {len(train_loader)} train batches, {len(val_loader)} val batches.\")"
      ]
    },
    {
      "cell_type": "code",
      "execution_count": null,
      "metadata": {
        "colab": {
          "base_uri": "https://localhost:8080/"
        },
        "collapsed": true,
        "id": "8MNgPv5RElrJ",
        "outputId": "9df015cb-067d-47b0-9d7f-6f04675a679b"
      },
      "outputs": [
        {
          "name": "stdout",
          "output_type": "stream",
          "text": [
            "Requirement already satisfied: transformers in /usr/local/lib/python3.11/dist-packages (4.51.3)\n",
            "Requirement already satisfied: filelock in /usr/local/lib/python3.11/dist-packages (from transformers) (3.18.0)\n",
            "Requirement already satisfied: huggingface-hub<1.0,>=0.30.0 in /usr/local/lib/python3.11/dist-packages (from transformers) (0.31.2)\n",
            "Requirement already satisfied: numpy>=1.17 in /usr/local/lib/python3.11/dist-packages (from transformers) (2.2.6)\n",
            "Requirement already satisfied: packaging>=20.0 in /usr/local/lib/python3.11/dist-packages (from transformers) (24.2)\n",
            "Requirement already satisfied: pyyaml>=5.1 in /usr/local/lib/python3.11/dist-packages (from transformers) (6.0.2)\n",
            "Requirement already satisfied: regex!=2019.12.17 in /usr/local/lib/python3.11/dist-packages (from transformers) (2024.11.6)\n",
            "Requirement already satisfied: requests in /usr/local/lib/python3.11/dist-packages (from transformers) (2.32.3)\n",
            "Requirement already satisfied: tokenizers<0.22,>=0.21 in /usr/local/lib/python3.11/dist-packages (from transformers) (0.21.1)\n",
            "Requirement already satisfied: safetensors>=0.4.3 in /usr/local/lib/python3.11/dist-packages (from transformers) (0.5.3)\n",
            "Requirement already satisfied: tqdm>=4.27 in /usr/local/lib/python3.11/dist-packages (from transformers) (4.67.1)\n",
            "Requirement already satisfied: fsspec>=2023.5.0 in /usr/local/lib/python3.11/dist-packages (from huggingface-hub<1.0,>=0.30.0->transformers) (2025.3.2)\n",
            "Requirement already satisfied: typing-extensions>=3.7.4.3 in /usr/local/lib/python3.11/dist-packages (from huggingface-hub<1.0,>=0.30.0->transformers) (4.13.2)\n",
            "Requirement already satisfied: charset-normalizer<4,>=2 in /usr/local/lib/python3.11/dist-packages (from requests->transformers) (3.4.2)\n",
            "Requirement already satisfied: idna<4,>=2.5 in /usr/local/lib/python3.11/dist-packages (from requests->transformers) (3.10)\n",
            "Requirement already satisfied: urllib3<3,>=1.21.1 in /usr/local/lib/python3.11/dist-packages (from requests->transformers) (2.4.0)\n",
            "Requirement already satisfied: certifi>=2017.4.17 in /usr/local/lib/python3.11/dist-packages (from requests->transformers) (2025.4.26)\n"
          ]
        }
      ],
      "source": [
        "!pip install transformers"
      ]
    },
    {
      "cell_type": "code",
      "execution_count": null,
      "metadata": {
        "id": "vv_jgBLyI2Sp"
      },
      "outputs": [],
      "source": [
        "from transformers import T5Config, T5ForConditionalGeneration\n",
        "\n",
        "# Custom config with dropout\n",
        "config = T5Config.from_pretrained(\"t5-small\")\n",
        "config.dropout_rate = 0.3\n",
        "config.dropout = 0.3\n",
        "\n",
        "# Load model with config\n",
        "model = T5ForConditionalGeneration.from_pretrained(\"t5-small\", config=config)\n",
        "\n",
        "# Move the model to GPU if available\n",
        "device = torch.device(\"cuda\" if torch.cuda.is_available() else \"cpu\")\n",
        "model = model.to(device)\n"
      ]
    },
    {
      "cell_type": "code",
      "execution_count": null,
      "metadata": {
        "id": "qz7NMMaXI2Pm"
      },
      "outputs": [],
      "source": [
        "from torch.optim import AdamW\n",
        "\n",
        "# Initialize the optimizer\n",
        "optimizer = AdamW(model.parameters(), lr=5e-5, weight_decay=0.01)\n",
        "  # slightly higher LR speeds up convergence\n"
      ]
    },
    {
      "cell_type": "code",
      "execution_count": null,
      "metadata": {
        "id": "KpsnfAjXpn3r"
      },
      "outputs": [],
      "source": [
        "from tqdm import tqdm\n",
        "import torch\n",
        "import matplotlib.pyplot as plt\n",
        "\n",
        "train_losses = []\n",
        "val_losses = []\n",
        "patience=5\n",
        "trials=0\n",
        "\n",
        "n_epochs = 30\n",
        "best_val_loss = float('inf')"
      ]
    },
    {
      "cell_type": "code",
      "execution_count": null,
      "metadata": {
        "id": "tTHBHAONpiQ7"
      },
      "outputs": [],
      "source": [
        "from transformers import get_scheduler\n",
        "\n",
        "num_training_steps = len(train_loader) * n_epochs\n",
        "lr_scheduler = get_scheduler(\n",
        "    name=\"linear\",\n",
        "    optimizer=optimizer,\n",
        "    num_warmup_steps=0,\n",
        "    num_training_steps=num_training_steps,\n",
        ")\n"
      ]
    },
    {
      "cell_type": "code",
      "execution_count": null,
      "metadata": {
        "colab": {
          "background_save": true,
          "base_uri": "https://localhost:8080/"
        },
        "id": "GOoMRy_ZI2Mp",
        "outputId": "9aa7d0d1-cac5-472c-fb39-9573ec2b60d8"
      },
      "outputs": [
        {
          "name": "stdout",
          "output_type": "stream",
          "text": [
            "🚀 Start model training...\n"
          ]
        },
        {
          "name": "stderr",
          "output_type": "stream",
          "text": [
            "Epoch 1/30: 100%|██████████| 2000/2000 [05:57<00:00,  5.59it/s, loss=2.91]\n"
          ]
        },
        {
          "name": "stdout",
          "output_type": "stream",
          "text": [
            "📢 Epoch 1: Train Loss = 2.8550, Val Loss = 2.1032\n",
            "✅ Best model saved at epoch 1 with Val Loss: 2.1032\n"
          ]
        },
        {
          "name": "stderr",
          "output_type": "stream",
          "text": [
            "Epoch 2/30: 100%|██████████| 2000/2000 [05:42<00:00,  5.83it/s, loss=2.14]\n"
          ]
        },
        {
          "name": "stdout",
          "output_type": "stream",
          "text": [
            "📢 Epoch 2: Train Loss = 2.6737, Val Loss = 2.1337\n"
          ]
        },
        {
          "name": "stderr",
          "output_type": "stream",
          "text": [
            "Epoch 3/30: 100%|██████████| 2000/2000 [05:42<00:00,  5.84it/s, loss=3.55]\n"
          ]
        },
        {
          "name": "stdout",
          "output_type": "stream",
          "text": [
            "📢 Epoch 3: Train Loss = 2.6059, Val Loss = 2.1293\n"
          ]
        },
        {
          "name": "stderr",
          "output_type": "stream",
          "text": [
            "Epoch 4/30: 100%|██████████| 2000/2000 [05:42<00:00,  5.84it/s, loss=2.78]\n"
          ]
        },
        {
          "name": "stdout",
          "output_type": "stream",
          "text": [
            "📢 Epoch 4: Train Loss = 2.5626, Val Loss = 2.1093\n"
          ]
        },
        {
          "name": "stderr",
          "output_type": "stream",
          "text": [
            "Epoch 5/30: 100%|██████████| 2000/2000 [05:42<00:00,  5.85it/s, loss=2.16]\n"
          ]
        },
        {
          "name": "stdout",
          "output_type": "stream",
          "text": [
            "📢 Epoch 5: Train Loss = 2.5262, Val Loss = 2.1012\n",
            "✅ Best model saved at epoch 5 with Val Loss: 2.1012\n"
          ]
        },
        {
          "name": "stderr",
          "output_type": "stream",
          "text": [
            "Epoch 6/30: 100%|██████████| 2000/2000 [05:41<00:00,  5.85it/s, loss=2.39]\n"
          ]
        },
        {
          "name": "stdout",
          "output_type": "stream",
          "text": [
            "📢 Epoch 6: Train Loss = 2.5011, Val Loss = 2.0937\n",
            "✅ Best model saved at epoch 6 with Val Loss: 2.0937\n"
          ]
        },
        {
          "name": "stderr",
          "output_type": "stream",
          "text": [
            "Epoch 7/30: 100%|██████████| 2000/2000 [05:42<00:00,  5.84it/s, loss=2.22]\n"
          ]
        },
        {
          "name": "stdout",
          "output_type": "stream",
          "text": [
            "📢 Epoch 7: Train Loss = 2.4774, Val Loss = 2.0975\n"
          ]
        },
        {
          "name": "stderr",
          "output_type": "stream",
          "text": [
            "Epoch 8/30: 100%|██████████| 2000/2000 [05:43<00:00,  5.83it/s, loss=2.72]\n"
          ]
        },
        {
          "name": "stdout",
          "output_type": "stream",
          "text": [
            "📢 Epoch 8: Train Loss = 2.4553, Val Loss = 2.0936\n",
            "✅ Best model saved at epoch 8 with Val Loss: 2.0936\n"
          ]
        },
        {
          "name": "stderr",
          "output_type": "stream",
          "text": [
            "Epoch 9/30: 100%|██████████| 2000/2000 [05:41<00:00,  5.86it/s, loss=2.76]\n"
          ]
        },
        {
          "name": "stdout",
          "output_type": "stream",
          "text": [
            "📢 Epoch 9: Train Loss = 2.4422, Val Loss = 2.0997\n"
          ]
        },
        {
          "name": "stderr",
          "output_type": "stream",
          "text": [
            "Epoch 10/30: 100%|██████████| 2000/2000 [05:42<00:00,  5.83it/s, loss=2.62]\n"
          ]
        },
        {
          "name": "stdout",
          "output_type": "stream",
          "text": [
            "📢 Epoch 10: Train Loss = 2.4247, Val Loss = 2.0894\n",
            "✅ Best model saved at epoch 10 with Val Loss: 2.0894\n"
          ]
        },
        {
          "name": "stderr",
          "output_type": "stream",
          "text": [
            "Epoch 11/30: 100%|██████████| 2000/2000 [05:41<00:00,  5.85it/s, loss=2.37]\n"
          ]
        },
        {
          "name": "stdout",
          "output_type": "stream",
          "text": [
            "📢 Epoch 11: Train Loss = 2.4113, Val Loss = 2.0880\n",
            "✅ Best model saved at epoch 11 with Val Loss: 2.0880\n"
          ]
        },
        {
          "name": "stderr",
          "output_type": "stream",
          "text": [
            "Epoch 12/30: 100%|██████████| 2000/2000 [05:41<00:00,  5.85it/s, loss=2.64]\n"
          ]
        },
        {
          "name": "stdout",
          "output_type": "stream",
          "text": [
            "📢 Epoch 12: Train Loss = 2.3985, Val Loss = 2.0902\n"
          ]
        },
        {
          "name": "stderr",
          "output_type": "stream",
          "text": [
            "Epoch 13/30: 100%|██████████| 2000/2000 [05:41<00:00,  5.85it/s, loss=2.75]\n"
          ]
        },
        {
          "name": "stdout",
          "output_type": "stream",
          "text": [
            "📢 Epoch 13: Train Loss = 2.3837, Val Loss = 2.0893\n"
          ]
        },
        {
          "name": "stderr",
          "output_type": "stream",
          "text": [
            "Epoch 14/30: 100%|██████████| 2000/2000 [05:41<00:00,  5.85it/s, loss=2.75]\n"
          ]
        },
        {
          "name": "stdout",
          "output_type": "stream",
          "text": [
            "📢 Epoch 14: Train Loss = 2.3743, Val Loss = 2.0865\n",
            "✅ Best model saved at epoch 14 with Val Loss: 2.0865\n"
          ]
        },
        {
          "name": "stderr",
          "output_type": "stream",
          "text": [
            "Epoch 15/30: 100%|██████████| 2000/2000 [05:41<00:00,  5.85it/s, loss=1.95]\n"
          ]
        },
        {
          "name": "stdout",
          "output_type": "stream",
          "text": [
            "📢 Epoch 15: Train Loss = 2.3663, Val Loss = 2.0880\n"
          ]
        },
        {
          "name": "stderr",
          "output_type": "stream",
          "text": [
            "Epoch 16/30: 100%|██████████| 2000/2000 [05:41<00:00,  5.85it/s, loss=2.05]\n"
          ]
        },
        {
          "name": "stdout",
          "output_type": "stream",
          "text": [
            "📢 Epoch 16: Train Loss = 2.3577, Val Loss = 2.0951\n"
          ]
        },
        {
          "name": "stderr",
          "output_type": "stream",
          "text": [
            "Epoch 17/30:  66%|██████▌   | 1319/2000 [03:45<01:56,  5.86it/s, loss=2.12]"
          ]
        }
      ],
      "source": [
        "print(\"🚀 Start model training...\")\n",
        "\n",
        "for epoch in range(1, n_epochs + 1):\n",
        "    model.train()\n",
        "    epoch_train_loss = 0\n",
        "\n",
        "    with tqdm(total=len(train_loader), desc=f\"Epoch {epoch}/{n_epochs}\") as pbar:\n",
        "        for batch in train_loader:\n",
        "            input_ids = batch['input_ids'].to(device)\n",
        "            attention_mask = batch['attention_mask'].to(device)\n",
        "            labels = batch['labels'].to(device)\n",
        "\n",
        "            optimizer.zero_grad()\n",
        "\n",
        "            outputs = model(\n",
        "                input_ids=input_ids,\n",
        "                attention_mask=attention_mask,\n",
        "                labels=labels\n",
        "            )\n",
        "\n",
        "            loss = outputs.loss\n",
        "            loss.backward()\n",
        "\n",
        "            torch.nn.utils.clip_grad_norm_(model.parameters(), max_norm=1.0)\n",
        "            optimizer.step()\n",
        "            lr_scheduler.step()\n",
        "\n",
        "            epoch_train_loss += loss.item()\n",
        "            pbar.set_postfix(loss=loss.item())\n",
        "            pbar.update(1)\n",
        "\n",
        "    avg_train_loss = epoch_train_loss / len(train_loader)\n",
        "    train_losses.append(avg_train_loss)\n",
        "\n",
        "    # Evaluation\n",
        "    model.eval()\n",
        "    epoch_val_loss = 0\n",
        "\n",
        "    with torch.no_grad():\n",
        "        for batch in val_loader:\n",
        "            input_ids = batch['input_ids'].to(device)\n",
        "            attention_mask = batch['attention_mask'].to(device)\n",
        "            labels = batch['labels'].to(device)\n",
        "\n",
        "            outputs = model(\n",
        "                input_ids=input_ids,\n",
        "                attention_mask=attention_mask,\n",
        "                labels=labels\n",
        "            )\n",
        "\n",
        "            val_loss = outputs.loss\n",
        "            epoch_val_loss += val_loss.item()\n",
        "\n",
        "    avg_val_loss = epoch_val_loss / len(val_loader)\n",
        "    val_losses.append(avg_val_loss)\n",
        "\n",
        "    print(f\"📢 Epoch {epoch}: Train Loss = {avg_train_loss:.4f}, Val Loss = {avg_val_loss:.4f}\")\n",
        "\n",
        "    if avg_val_loss < best_val_loss:\n",
        "        best_val_loss = avg_val_loss\n",
        "        torch.save(model.state_dict(), \"best_t5_model.pth\")\n",
        "        print(f\"✅ Best model saved at epoch {epoch} with Val Loss: {best_val_loss:.4f}\")\n",
        "        trials = 0  # reset counter\n",
        "    else:\n",
        "        trials += 1\n",
        "        if trials >= patience:\n",
        "            print(f\"⏹️ Early stopping at epoch {epoch}\")\n",
        "            break\n",
        "\n"
      ]
    },
    {
      "cell_type": "code",
      "execution_count": null,
      "metadata": {
        "id": "1Sq5pkDVI2Ff"
      },
      "outputs": [],
      "source": [
        "plt.plot(train_losses, label='Training Loss')\n",
        "plt.plot(val_losses, label='Validation Loss')\n",
        "plt.xlabel(\"Epoch\")\n",
        "plt.ylabel(\"Loss\")\n",
        "plt.title(\"Training & Validation Loss\")\n",
        "plt.legend()\n",
        "plt.grid(True)\n",
        "plt.show()\n"
      ]
    },
    {
      "cell_type": "code",
      "execution_count": null,
      "metadata": {
        "collapsed": true,
        "id": "Bl2XkgpUdTwS"
      },
      "outputs": [],
      "source": [
        "!pip install evaluate"
      ]
    },
    {
      "cell_type": "code",
      "execution_count": null,
      "metadata": {
        "id": "p3eFXgTGAtxJ"
      },
      "outputs": [],
      "source": []
    },
    {
      "cell_type": "code",
      "execution_count": null,
      "metadata": {
        "id": "dPpps1NgdTrU"
      },
      "outputs": [],
      "source": [
        "from transformers import T5ForConditionalGeneration, T5Tokenizer\n",
        "import evaluate\n",
        "\n",
        "\n",
        "# Load model and tokenizer\n",
        "model = T5ForConditionalGeneration.from_pretrained(\"t5-small\")\n",
        "model.load_state_dict(torch.load(\"best_t5_model.pth\", map_location=torch.device('cpu')))\n",
        "model.eval()\n",
        "\n",
        "tokenizer = T5Tokenizer.from_pretrained(\"t5-small\")\n",
        "device = torch.device(\"cuda\" if torch.cuda.is_available() else \"cpu\")\n",
        "model = model.to(device)\n",
        "\n",
        "# Load ROUGE metric\n",
        "rouge = evaluate.load(\"rouge\")\n",
        "\n",
        "# Function to generate predictions\n",
        "def generate_summary(text):\n",
        "    input_ids = tokenizer(\"summarize: \" + text, return_tensors=\"pt\", truncation=True, padding=\"max_length\", max_length=512).input_ids.to(device)\n",
        "    outputs = model.generate(input_ids=input_ids, max_length=64, num_beams=4, early_stopping=True)\n",
        "    return tokenizer.decode(outputs[0], skip_special_tokens=True)\n",
        "\n",
        "# Evaluate on validation set\n",
        "predictions = []\n",
        "references = []\n",
        "\n",
        "for i in range(100):  # Small sample of the val_dataset\n",
        "    item = val_dataset[i]\n",
        "    input_text = tokenizer.decode(item['input_ids'], skip_special_tokens=True).replace(\"summarize: \", \"\")\n",
        "\n",
        "    reference_summary = tokenizer.decode(\n",
        "        [t for t in item['labels'].tolist() if t != -100],  # Filter out -100\n",
        "        skip_special_tokens=True\n",
        "    )\n",
        "\n",
        "    pred_summary = generate_summary(input_text)\n",
        "\n",
        "    predictions.append(pred_summary)\n",
        "    references.append(reference_summary)\n",
        "\n",
        "# Compute ROUGE scores\n",
        "results = rouge.compute(predictions=predictions, references=references, use_stemmer=True)\n",
        "\n",
        "# Print ROUGE-1, ROUGE-2, and ROUGE-L\n",
        "print(\"📊 ROUGE-1:\", results[\"rouge1\"])\n",
        "print(\"📊 ROUGE-2:\", results[\"rouge2\"])\n",
        "print(\"📊 ROUGE-L:\", results[\"rougeL\"])\n"
      ]
    },
    {
      "cell_type": "code",
      "execution_count": null,
      "metadata": {
        "collapsed": true,
        "id": "IpIG6OdpdToe"
      },
      "outputs": [],
      "source": [
        "!pip install bert_score"
      ]
    },
    {
      "cell_type": "code",
      "execution_count": null,
      "metadata": {
        "id": "pnt6xioZEi1q"
      },
      "outputs": [],
      "source": [
        "# Load BERTScore metric\n",
        "bertscore = evaluate.load(\"bertscore\")\n",
        "\n",
        "# Compute BERTScore\n",
        "bertscore_result = bertscore.compute(\n",
        "    predictions=predictions,\n",
        "    references=references,\n",
        "    lang=\"en\"\n",
        ")\n",
        "\n",
        "# Print average BERTScore F1\n",
        "average_f1 = sum(bertscore_result[\"f1\"]) / len(bertscore_result[\"f1\"])\n",
        "print(\"🤖 BERTScore F1 (avg):\", average_f1)\n"
      ]
    },
    {
      "cell_type": "code",
      "execution_count": null,
      "metadata": {
        "id": "14ApOmNREiyK"
      },
      "outputs": [],
      "source": []
    },
    {
      "cell_type": "code",
      "execution_count": null,
      "metadata": {
        "id": "AzP0miAMEirX"
      },
      "outputs": [],
      "source": [
        "for i in range(5):  # Show 5 example summaries\n",
        "    item = val_dataset[i]\n",
        "    input_text = tokenizer.decode(item['input_ids'], skip_special_tokens=True).replace(\"summarize: \", \"\")\n",
        "    reference_summary = tokenizer.decode(\n",
        "        [t for t in item['labels'].tolist() if t != -100],\n",
        "        skip_special_tokens=True\n",
        "    )\n",
        "    predicted_summary = generate_summary(input_text)\n",
        "\n",
        "    print(f\"\\n🔹 Example {i+1}\")\n",
        "    print(\"📥 Original Text:\\n\", input_text[:250] + \"...\" if len(input_text) > 250 else input_text)\n",
        "    print(\"✅ Reference Summary:\\n\", reference_summary)\n",
        "    print(\"✏️ Predicted Summary:\\n\", predicted_summary)\n"
      ]
    },
    {
      "cell_type": "code",
      "execution_count": null,
      "metadata": {
        "id": "XmfziKlCEin4"
      },
      "outputs": [],
      "source": [
        "import matplotlib.pyplot as plt\n",
        "import seaborn as sns\n",
        "from transformers import T5Tokenizer\n",
        "\n",
        "tokenizer = T5Tokenizer.from_pretrained(\"t5-small\")\n",
        "\n",
        "inputs = data['Article'].tolist()\n",
        "input_lengths = [len(tokenizer.encode(text, truncation=True)) for text in inputs]\n",
        "\n",
        "print(\"📏 Average Input Length:\", np.mean(input_lengths))\n",
        "\n",
        "plt.figure(figsize=(8, 6))  # Adjust figsize as needed\n",
        "sns.histplot(input_lengths, bins=30, color=\"skyblue\", label=\"Input\", kde=True)\n",
        "plt.title(\"Input Length Distribution (Token Count)\")\n",
        "plt.xlabel(\"Number of Tokens\")\n",
        "plt.ylabel(\"Frequency\")\n",
        "plt.legend()\n",
        "plt.grid(True)\n",
        "plt.tight_layout()\n",
        "plt.show()"
      ]
    },
    {
      "cell_type": "code",
      "execution_count": null,
      "metadata": {
        "id": "Bb0cjj-_Jou_"
      },
      "outputs": [],
      "source": [
        "reference_lengths = [len(tokenizer.encode(ref, truncation=True)) for ref in references]\n",
        "predicted_lengths = [len(tokenizer.encode(pred, truncation=True)) for pred in predictions]\n",
        "\n",
        "print(\"📏 Average Reference Summary Length:\", np.mean(reference_lengths))\n",
        "print(\"📏 Average Predicted Summary Length:\", np.mean(predicted_lengths))\n",
        "\n",
        "plt.figure(figsize=(8, 6))  # Adjust figsize as needed\n",
        "sns.histplot(reference_lengths, bins=30, color=\"lightgreen\", label=\"Reference\", kde=True)\n",
        "sns.histplot(predicted_lengths, bins=30, color=\"salmon\", label=\"Predicted\", kde=True)\n",
        "plt.title(\"Reference and Predicted Summary Length Distributions (Token Count)\")\n",
        "plt.xlabel(\"Number of Tokens\")\n",
        "plt.ylabel(\"Frequency\")\n",
        "plt.legend()\n",
        "plt.grid(True)\n",
        "plt.tight_layout()\n",
        "plt.show()"
      ]
    },
    {
      "cell_type": "code",
      "execution_count": null,
      "metadata": {
        "collapsed": true,
        "id": "Kk_PC7848fvz"
      },
      "outputs": [],
      "source": [
        "!pip install gradio"
      ]
    },
    {
      "cell_type": "code",
      "execution_count": null,
      "metadata": {
        "id": "fhoqT-y38798"
      },
      "outputs": [],
      "source": [
        "import gradio as gr\n",
        "from transformers import T5Tokenizer, T5ForConditionalGeneration\n",
        "import torch\n",
        "\n",
        "# Load model and tokenizer\n",
        "model_name = \"t5-small\"\n",
        "tokenizer = T5Tokenizer.from_pretrained(model_name)\n",
        "model = T5ForConditionalGeneration.from_pretrained(model_name)\n",
        "model.load_state_dict(torch.load(\"best_t5_model.pth\", map_location=torch.device('cuda')))\n",
        "model.eval()\n",
        "\n",
        "# Move to GPU if available\n",
        "device = torch.device(\"cuda\" if torch.cuda.is_available() else \"cpu\")\n",
        "model = model.to(device)\n",
        "\n",
        "# Function to summarize text\n",
        "def summarize(text):\n",
        "    input_text = \"summarize: \" + text\n",
        "    inputs = tokenizer.encode(input_text, return_tensors=\"pt\", max_length=512, truncation=True).to(device)\n",
        "    summary_ids = model.generate(inputs, max_length=150, min_length=30, length_penalty=2.0, num_beams=4, early_stopping=True)\n",
        "    output = tokenizer.decode(summary_ids[0], skip_special_tokens=True)\n",
        "    return output\n",
        "\n",
        "# Build GUI\n",
        "interface = gr.Interface(\n",
        "    fn=summarize,\n",
        "    inputs=gr.Textbox(lines=10, placeholder=\"Enter your text here...\", label=\"Input Text\"),\n",
        "    outputs=gr.Textbox(label=\"Summary\",lines=10,placeholder=\"Output...\"),\n",
        "    title=\"📝 Text Summarizer using T5-small\",\n",
        "    description=\"Enter a long piece of text and click 'Submit' to get the summary.\",\n",
        "    theme=\"soft\"  # You can try \"default\", \"huggingface\", or others\n",
        ")\n",
        "\n",
        "# Launch GUI\n",
        "interface.launch()\n"
      ]
    }
  ],
  "metadata": {
    "accelerator": "GPU",
    "colab": {
      "gpuType": "T4",
      "provenance": [],
      "mount_file_id": "1qXjikAGwkq87gJPT5W9lFZmOzH5X00jD",
      "authorship_tag": "ABX9TyNugutleA8BAXKijg7H0Iag",
      "include_colab_link": true
    },
    "kernelspec": {
      "display_name": "Python 3",
      "name": "python3"
    },
    "language_info": {
      "name": "python"
    }
  },
  "nbformat": 4,
  "nbformat_minor": 0
}